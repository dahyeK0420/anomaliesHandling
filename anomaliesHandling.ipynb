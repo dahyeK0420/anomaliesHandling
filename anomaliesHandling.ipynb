{
 "cells": [
  {
   "cell_type": "markdown",
   "metadata": {},
   "source": [
    "# Data Cleansing\n",
    "#### Dahye Kim\n",
    "\n",
    "Date: 12/10/2020\n",
    "\n",
    "Environment: Python 3 and Jupyter notebook\n",
    "\n",
    "Libraries used:\n",
    "* itertools\n",
    "    * ``chain`` and ``permutation`` function\n",
    "* pandas \n",
    "    * Read and manipulate data frame\n",
    "* numpy \n",
    "    * Use linear systems to solve linear algebra\n",
    "* re\n",
    "    * Extract part of strings \n",
    "* haversine \n",
    "    * Calculate haversine distance between two locations based on their latitude and longitude\n",
    "* nltk.sentiment.vader\n",
    "    * ``SentimentIntensityAnalyzer``\n",
    "    * Sentiment analysis of customer reviews\n",
    "* sklearn.linear_model \n",
    "    * ``LinearRegression`` \n",
    "    * Build multiple regression model for linearly dependent variables \n",
    "* matplotlib\n",
    "    * ``pyplot`` \n",
    "    * Plot boxplot, scatter plot, and histogram for visualising distribution of variables"
   ]
  },
  {
   "cell_type": "code",
   "execution_count": null,
   "metadata": {},
   "outputs": [],
   "source": [
    "from __future__ import division # chaining series of iterative lists\n",
    "from itertools import chain \n",
    "from itertools import permutations\n",
    "import pandas as pd \n",
    "import numpy as np \n",
    "import re \n",
    "from haversine import haversine, Unit\n",
    "from nltk.sentiment.vader import SentimentIntensityAnalyzer\n",
    "from sklearn.linear_model import LinearRegression\n",
    "import matplotlib.pyplot as plt \n",
    "%matplotlib inline"
   ]
  },
  {
   "cell_type": "markdown",
   "metadata": {},
   "source": [
    "# Introduction \n",
    "\n",
    "This program cleanse the dataset, which contains transactional retail data from an online electronic store located in Melbourne, Australia. The wrangling process include three major steps for targeting different types of data anomalies: \n",
    "\n",
    "* Detect and correct syntatctic and semantic errors \n",
    "* Remove outliers \n",
    "* Impute missing data based on the type of missing values"
   ]
  },
  {
   "cell_type": "markdown",
   "metadata": {},
   "source": [
    "# Part 1. Detect and Correct Syntatctic and Semantic errors \n",
    "\n",
    "Part 1 is divided into two parts - (1) correcting syntactic errors and (2) correcting semantic errors. \n",
    "To clean the datasets with anomalies, first I corrected the syntactic errors in the data set. **Syntactic anomalies** include errors tackles the errors of the values or the format of the data types. This includes, lexical, domain format errors and irregularities in non-uniform use of values. **Semantic anomalies**, on the other hand, tackles the comprehensiveness and redundancy of the data set. This includes integrity constraints violations, contradictions of values based on values of other attributes, duplicates or invalid observations. \n",
    "\n",
    "Part 1 first starts off with briefly understanding the structure of the data frame, including the numbers of rows and columns, the data types of the values in each column, as well as the column names. Based on this observations, I tried to see which columns could contain what type of errors in their values (syntatctical anomalies), and which attributes could be related to another (semantic anomalies). I also checked if there is any null values within the data frame before starting correcting any potential errors.\n",
    "\n",
    "Since each row contains only one error of each type of anomaly, I created a list to keep in track of the rows that I corrected. \n",
    "\n",
    "To clean the data sets with both syntactic and semantic anomalies, we first need to correct the *syntactic anomalies* since the syntatctic errors are independent of the values of other attributes. Therefore, part 1 begins with detection and correction of syntactical errors in each attribute. "
   ]
  },
  {
   "cell_type": "code",
   "execution_count": 2,
   "metadata": {},
   "outputs": [],
   "source": [
    "orders = pd.read_csv('dirty_data.csv')\n",
    "# read in the data set with asyntactical and semantic anomalies"
   ]
  },
  {
   "cell_type": "code",
   "execution_count": 3,
   "metadata": {},
   "outputs": [
    {
     "name": "stdout",
     "output_type": "stream",
     "text": [
      "<class 'pandas.core.frame.DataFrame'>\n",
      "RangeIndex: 500 entries, 0 to 499\n",
      "Data columns (total 16 columns):\n",
      " #   Column                         Non-Null Count  Dtype  \n",
      "---  ------                         --------------  -----  \n",
      " 0   order_id                       500 non-null    object \n",
      " 1   customer_id                    500 non-null    object \n",
      " 2   date                           500 non-null    object \n",
      " 3   nearest_warehouse              500 non-null    object \n",
      " 4   shopping_cart                  500 non-null    object \n",
      " 5   order_price                    500 non-null    int64  \n",
      " 6   delivery_charges               500 non-null    float64\n",
      " 7   customer_lat                   500 non-null    float64\n",
      " 8   customer_long                  500 non-null    float64\n",
      " 9   coupon_discount                500 non-null    int64  \n",
      " 10  order_total                    500 non-null    float64\n",
      " 11  season                         500 non-null    object \n",
      " 12  is_expedited_delivery          500 non-null    bool   \n",
      " 13  distance_to_nearest_warehouse  500 non-null    float64\n",
      " 14  latest_customer_review         500 non-null    object \n",
      " 15  is_happy_customer              500 non-null    bool   \n",
      "dtypes: bool(2), float64(5), int64(2), object(7)\n",
      "memory usage: 55.8+ KB\n"
     ]
    }
   ],
   "source": [
    "orders.info()\n",
    "# no null values detected in any attribute"
   ]
  },
  {
   "cell_type": "markdown",
   "metadata": {},
   "source": [
    "## Syntatical Errors "
   ]
  },
  {
   "cell_type": "code",
   "execution_count": 4,
   "metadata": {},
   "outputs": [],
   "source": [
    "syntatical = list()\n",
    "# the list to record the row index whose errors are corrected\n",
    "# using a list in case of repeated indexes"
   ]
  },
  {
   "cell_type": "markdown",
   "metadata": {},
   "source": [
    "### 1. Warehouse Names\n",
    "\n",
    "The correct name and locations of three warehouses are given in ``warehouse.csv``. Assuming that this file does not contain any error, the names of warehouses within ``nearest_warehouse`` column should be identical to those in ``warehouse.csv`` file.\n",
    "I first started by detecting anomalies in values within ``nearest_warehouse`` column and check if there is any errors within the values themselves (misspellings, inconsistencies, etc.)  "
   ]
  },
  {
   "cell_type": "code",
   "execution_count": 5,
   "metadata": {},
   "outputs": [
    {
     "data": {
      "text/plain": [
       "{'Bakers', 'Nickolson', 'Thompson'}"
      ]
     },
     "execution_count": 5,
     "metadata": {},
     "output_type": "execute_result"
    }
   ],
   "source": [
    "warehouse = pd.read_csv('warehouses.csv')\n",
    "warehouseNames = set(warehouse.names)\n",
    "# read in the 'warehouse.csv' file and retrieve the unique names of the warehouses\n",
    "warehouseNames\n",
    "# there are three unique names of the warehouses"
   ]
  },
  {
   "cell_type": "code",
   "execution_count": 6,
   "metadata": {},
   "outputs": [
    {
     "data": {
      "text/plain": [
       "array(['Nickolson', 'Bakers', 'Thompson', 'bakers', 'nickolson',\n",
       "       'thompson'], dtype=object)"
      ]
     },
     "execution_count": 6,
     "metadata": {},
     "output_type": "execute_result"
    }
   ],
   "source": [
    "pd.unique(orders.nearest_warehouse)\n",
    "# there are six unique values in orders.nearest_warehouse dataframe \n",
    "# three of them are identical to those in 'warehouse.csv'\n",
    "# inconsistencies in spelling detected"
   ]
  },
  {
   "cell_type": "code",
   "execution_count": 7,
   "metadata": {},
   "outputs": [
    {
     "data": {
      "text/plain": [
       "26        bakers\n",
       "81     nickolson\n",
       "83        bakers\n",
       "86     nickolson\n",
       "98      thompson\n",
       "116       bakers\n",
       "142    nickolson\n",
       "148    nickolson\n",
       "178    nickolson\n",
       "199    nickolson\n",
       "238     thompson\n",
       "258     thompson\n",
       "293     thompson\n",
       "351       bakers\n",
       "375     thompson\n",
       "396    nickolson\n",
       "398       bakers\n",
       "446     thompson\n",
       "460       bakers\n",
       "472       bakers\n",
       "Name: nearest_warehouse, dtype: object"
      ]
     },
     "execution_count": 7,
     "metadata": {},
     "output_type": "execute_result"
    }
   ],
   "source": [
    "syntatical+=list(orders.index[~orders.nearest_warehouse.isin(warehouseNames)])\n",
    "# append the row index where the misspelling of warehouse names are detected\n",
    "orders.loc[syntatical,'nearest_warehouse']"
   ]
  },
  {
   "cell_type": "code",
   "execution_count": 8,
   "metadata": {},
   "outputs": [
    {
     "name": "stdout",
     "output_type": "stream",
     "text": [
      "The warehouse names in 'nearest_warehouse' columns are:\n",
      " Nickolson, Bakers, Thompson\n"
     ]
    }
   ],
   "source": [
    "orders['nearest_warehouse'] = orders['nearest_warehouse'].apply(lambda x: x.capitalize())\n",
    "# Since the anomalies are the inconsistencies is cases\n",
    "# I applied 'capitalize()' function to all the rows in 'nearest_warehouse' column with .apply() function\n",
    "\n",
    "print(\"The warehouse names in 'nearest_warehouse' columns are:\\n\", ', '.join(pd.unique(orders['nearest_warehouse'])))\n",
    "# No more inconsistencies detected in nearest_warehouse column"
   ]
  },
  {
   "cell_type": "markdown",
   "metadata": {},
   "source": [
    "### 2. Validating Latitude and Longitude\n",
    "\n",
    "The warehouse is located in Melbourne, Australia. Legitimate longitude and latitude of any locations within Melbourne area should be similar to $\\left(-37.8136^{\\circ}, 144.9631^{\\circ}\\right)$. To check the correctness of the value and the consistency of the format, I followed the following steps: \n",
    "1. Double-check the data type of the values in ``customer_lat`` and ``customer_long`` columns\n",
    "2. Check if the latitude is negative and longitude and positive \n",
    "3. Check if the longitude and latitude and close to those of Melbourne or not "
   ]
  },
  {
   "cell_type": "code",
   "execution_count": 9,
   "metadata": {},
   "outputs": [
    {
     "data": {
      "text/plain": [
       "customer_lat     float64\n",
       "customer_long    float64\n",
       "dtype: object"
      ]
     },
     "execution_count": 9,
     "metadata": {},
     "output_type": "execute_result"
    }
   ],
   "source": [
    "orders[['customer_lat','customer_long']].dtypes"
   ]
  },
  {
   "cell_type": "code",
   "execution_count": 10,
   "metadata": {},
   "outputs": [
    {
     "data": {
      "text/plain": [
       "True"
      ]
     },
     "execution_count": 10,
     "metadata": {},
     "output_type": "execute_result"
    }
   ],
   "source": [
    "list(orders.index[(orders.customer_long+37<0)&(orders.customer_lat-144>0)])==\\\n",
    "list(orders.index[(orders.customer_long<0)|(orders.customer_lat>0)])\n",
    "# The rows whose latitude is positive and longitude is negative is identical to those whose latitude and longitude \n",
    "# is far away from Melbourne "
   ]
  },
  {
   "cell_type": "code",
   "execution_count": 11,
   "metadata": {},
   "outputs": [
    {
     "data": {
      "text/html": [
       "<div>\n",
       "<style scoped>\n",
       "    .dataframe tbody tr th:only-of-type {\n",
       "        vertical-align: middle;\n",
       "    }\n",
       "\n",
       "    .dataframe tbody tr th {\n",
       "        vertical-align: top;\n",
       "    }\n",
       "\n",
       "    .dataframe thead th {\n",
       "        text-align: right;\n",
       "    }\n",
       "</style>\n",
       "<table border=\"1\" class=\"dataframe\">\n",
       "  <thead>\n",
       "    <tr style=\"text-align: right;\">\n",
       "      <th></th>\n",
       "      <th>customer_lat</th>\n",
       "      <th>customer_long</th>\n",
       "    </tr>\n",
       "  </thead>\n",
       "  <tbody>\n",
       "    <tr>\n",
       "      <th>46</th>\n",
       "      <td>144.972615</td>\n",
       "      <td>-37.799848</td>\n",
       "    </tr>\n",
       "    <tr>\n",
       "      <th>59</th>\n",
       "      <td>144.966146</td>\n",
       "      <td>-37.808890</td>\n",
       "    </tr>\n",
       "    <tr>\n",
       "      <th>100</th>\n",
       "      <td>145.010112</td>\n",
       "      <td>-37.800698</td>\n",
       "    </tr>\n",
       "    <tr>\n",
       "      <th>134</th>\n",
       "      <td>144.959312</td>\n",
       "      <td>-37.812090</td>\n",
       "    </tr>\n",
       "    <tr>\n",
       "      <th>137</th>\n",
       "      <td>144.992497</td>\n",
       "      <td>-37.807224</td>\n",
       "    </tr>\n",
       "    <tr>\n",
       "      <th>141</th>\n",
       "      <td>144.947320</td>\n",
       "      <td>-37.808800</td>\n",
       "    </tr>\n",
       "    <tr>\n",
       "      <th>156</th>\n",
       "      <td>145.015023</td>\n",
       "      <td>-37.821247</td>\n",
       "    </tr>\n",
       "    <tr>\n",
       "      <th>164</th>\n",
       "      <td>144.975366</td>\n",
       "      <td>-37.810743</td>\n",
       "    </tr>\n",
       "    <tr>\n",
       "      <th>183</th>\n",
       "      <td>144.949225</td>\n",
       "      <td>-37.804398</td>\n",
       "    </tr>\n",
       "    <tr>\n",
       "      <th>202</th>\n",
       "      <td>144.952223</td>\n",
       "      <td>-37.821829</td>\n",
       "    </tr>\n",
       "    <tr>\n",
       "      <th>209</th>\n",
       "      <td>144.967388</td>\n",
       "      <td>-37.817330</td>\n",
       "    </tr>\n",
       "    <tr>\n",
       "      <th>239</th>\n",
       "      <td>144.973469</td>\n",
       "      <td>-37.807907</td>\n",
       "    </tr>\n",
       "    <tr>\n",
       "      <th>248</th>\n",
       "      <td>145.009227</td>\n",
       "      <td>-37.801230</td>\n",
       "    </tr>\n",
       "    <tr>\n",
       "      <th>272</th>\n",
       "      <td>145.009458</td>\n",
       "      <td>-37.815786</td>\n",
       "    </tr>\n",
       "    <tr>\n",
       "      <th>289</th>\n",
       "      <td>144.953896</td>\n",
       "      <td>-37.798948</td>\n",
       "    </tr>\n",
       "    <tr>\n",
       "      <th>349</th>\n",
       "      <td>144.967655</td>\n",
       "      <td>-37.802646</td>\n",
       "    </tr>\n",
       "    <tr>\n",
       "      <th>354</th>\n",
       "      <td>144.982328</td>\n",
       "      <td>-37.824873</td>\n",
       "    </tr>\n",
       "    <tr>\n",
       "      <th>363</th>\n",
       "      <td>145.004300</td>\n",
       "      <td>-37.816477</td>\n",
       "    </tr>\n",
       "    <tr>\n",
       "      <th>364</th>\n",
       "      <td>144.951603</td>\n",
       "      <td>-37.825504</td>\n",
       "    </tr>\n",
       "    <tr>\n",
       "      <th>397</th>\n",
       "      <td>144.965051</td>\n",
       "      <td>-37.818024</td>\n",
       "    </tr>\n",
       "    <tr>\n",
       "      <th>408</th>\n",
       "      <td>144.940017</td>\n",
       "      <td>-37.796305</td>\n",
       "    </tr>\n",
       "    <tr>\n",
       "      <th>426</th>\n",
       "      <td>144.950731</td>\n",
       "      <td>-37.822044</td>\n",
       "    </tr>\n",
       "    <tr>\n",
       "      <th>431</th>\n",
       "      <td>144.947631</td>\n",
       "      <td>-37.803140</td>\n",
       "    </tr>\n",
       "    <tr>\n",
       "      <th>452</th>\n",
       "      <td>144.950271</td>\n",
       "      <td>-37.803286</td>\n",
       "    </tr>\n",
       "    <tr>\n",
       "      <th>475</th>\n",
       "      <td>144.949465</td>\n",
       "      <td>-37.802990</td>\n",
       "    </tr>\n",
       "    <tr>\n",
       "      <th>479</th>\n",
       "      <td>144.960484</td>\n",
       "      <td>-37.808057</td>\n",
       "    </tr>\n",
       "    <tr>\n",
       "      <th>492</th>\n",
       "      <td>144.953426</td>\n",
       "      <td>-37.818757</td>\n",
       "    </tr>\n",
       "  </tbody>\n",
       "</table>\n",
       "</div>"
      ],
      "text/plain": [
       "     customer_lat  customer_long\n",
       "46     144.972615     -37.799848\n",
       "59     144.966146     -37.808890\n",
       "100    145.010112     -37.800698\n",
       "134    144.959312     -37.812090\n",
       "137    144.992497     -37.807224\n",
       "141    144.947320     -37.808800\n",
       "156    145.015023     -37.821247\n",
       "164    144.975366     -37.810743\n",
       "183    144.949225     -37.804398\n",
       "202    144.952223     -37.821829\n",
       "209    144.967388     -37.817330\n",
       "239    144.973469     -37.807907\n",
       "248    145.009227     -37.801230\n",
       "272    145.009458     -37.815786\n",
       "289    144.953896     -37.798948\n",
       "349    144.967655     -37.802646\n",
       "354    144.982328     -37.824873\n",
       "363    145.004300     -37.816477\n",
       "364    144.951603     -37.825504\n",
       "397    144.965051     -37.818024\n",
       "408    144.940017     -37.796305\n",
       "426    144.950731     -37.822044\n",
       "431    144.947631     -37.803140\n",
       "452    144.950271     -37.803286\n",
       "475    144.949465     -37.802990\n",
       "479    144.960484     -37.808057\n",
       "492    144.953426     -37.818757"
      ]
     },
     "execution_count": 11,
     "metadata": {},
     "output_type": "execute_result"
    }
   ],
   "source": [
    "orders[(orders.customer_long<0)|(orders.customer_lat>0)][['customer_lat','customer_long']]\n",
    "# The customer_lat and customer_long values of these rows are in fact inserted other way round "
   ]
  },
  {
   "cell_type": "code",
   "execution_count": 12,
   "metadata": {},
   "outputs": [],
   "source": [
    "syntatical+=list(orders.index[(orders.customer_long<0)|(orders.customer_lat>0)])\n",
    "# adding the row index to syntactical to keep on track of the corrected rows"
   ]
  },
  {
   "cell_type": "code",
   "execution_count": 13,
   "metadata": {},
   "outputs": [],
   "source": [
    "for i in set(orders.index[(orders.customer_long<0)|(orders.customer_lat>0)]):\n",
    "    orders.loc[i,'customer_lat'], orders.loc[i,'customer_long'] = orders.loc[i,'customer_long'],orders.loc[i,'customer_lat']\n",
    "# Change the customer_lat and customer_long values around "
   ]
  },
  {
   "cell_type": "code",
   "execution_count": 14,
   "metadata": {},
   "outputs": [
    {
     "name": "stdout",
     "output_type": "stream",
     "text": [
      "There is no syntatical errors in latitude and longitude columns.\n"
     ]
    }
   ],
   "source": [
    "if not set(orders.index[(orders.customer_long<0)|(orders.customer_lat>0)])\\\n",
    "and not set(orders.index[(orders.customer_long+37<0)&(orders.customer_lat-144>0)]): \n",
    "    print('There is no syntatical errors in latitude and longitude columns.')\n",
    "# No more errors in these two columns detected"
   ]
  },
  {
   "cell_type": "markdown",
   "metadata": {},
   "source": [
    "### 3. Validating Season Names\n",
    "\n",
    "The domain of values for season names is very limited - there should be only four legitimate values available for this column. Therefore, I checked the unique values in the column and see if there is any consistencies or misspellings in the column."
   ]
  },
  {
   "cell_type": "code",
   "execution_count": 15,
   "metadata": {},
   "outputs": [
    {
     "data": {
      "text/plain": [
       "array(['Spring', 'Autumn', 'Winter', 'Summer', 'autumn', 'winter',\n",
       "       'summer', 'spring'], dtype=object)"
      ]
     },
     "execution_count": 15,
     "metadata": {},
     "output_type": "execute_result"
    }
   ],
   "source": [
    "pd.unique(orders.season)\n",
    "# Similar to the warehouse names, the cases of season is also not consistent. "
   ]
  },
  {
   "cell_type": "code",
   "execution_count": 16,
   "metadata": {},
   "outputs": [
    {
     "data": {
      "text/plain": [
       "array(['Spring', 'Autumn', 'Winter', 'Summer'], dtype=object)"
      ]
     },
     "execution_count": 16,
     "metadata": {},
     "output_type": "execute_result"
    }
   ],
   "source": [
    "correctSeasons = pd.unique(orders.season)[:4]\n",
    "# extract the capitalised season names and assume that the capitalised case is the correct case for the column values\n",
    "correctSeasons"
   ]
  },
  {
   "cell_type": "code",
   "execution_count": 17,
   "metadata": {},
   "outputs": [],
   "source": [
    "syntatical+=list(orders.index[~orders['season'].isin(correctSeasons)])\n",
    "# add the index of the rows with wrong cases to list syntactical \n",
    "# [~orders['season'].isin(correctSeasons)]\n",
    "# ~ means 'not', similar to '!' in R\n",
    "# .isin() function checks if the values in a column is in the input parameter array\n",
    "# If the values in 'season' is not in correctSeasons list, then the index of the matching row is appended to syntactical\n",
    "\n",
    "orders.season = orders.season.apply(lambda x: x.capitalize())\n",
    "# Same method as the warehouse name correction, simply capitalise all the value in the entire column for consistency"
   ]
  },
  {
   "cell_type": "code",
   "execution_count": 18,
   "metadata": {},
   "outputs": [
    {
     "name": "stdout",
     "output_type": "stream",
     "text": [
      "The unique season names in the 'season' column are:\n",
      " Spring, Autumn, Winter, Summer\n"
     ]
    }
   ],
   "source": [
    "print(\"The unique season names in the 'season' column are:\\n\",', '.join(pd.unique(orders.season)))\n",
    "# Check again if the values in season column is faulty by calling pd.unique() function"
   ]
  },
  {
   "cell_type": "markdown",
   "metadata": {},
   "source": [
    "### 4. Correcting Data Type of shopping_cart Column and Validating Unique Product Names\n",
    "\n",
    "In the meta data, the column ``shopping_cart`` is a list of tuples representing the item and the quantity ordered. Therefore, I checked if the data type of the column ``shopping_cart`` should be an array. With ``dtypes`` attribute above, we the data type is shown as ``object``, which cannot inform us if the value is actually an array or a string. To do so, I used ``apply`` function and called ``isinstance(x, list)`` to all the values in ``shopping_cart`` column, in order to create a Boolean series to check if the values in ``shopping_cart`` columns are list is not. I converted the series then to set - If the set has both ``True`` and ``False``, the column has mixture of list and other data types; if the set has only ``False``, the data type of the values in ``shopping_cart`` column is not a list; otherwise, the values are all lists. "
   ]
  },
  {
   "cell_type": "code",
   "execution_count": 19,
   "metadata": {},
   "outputs": [
    {
     "data": {
      "text/plain": [
       "{False}"
      ]
     },
     "execution_count": 19,
     "metadata": {},
     "output_type": "execute_result"
    }
   ],
   "source": [
    "set(orders['shopping_cart'].apply(lambda x: isinstance(x, list)))\n",
    "# None of the values in the 'shopping_cart' column is a list"
   ]
  },
  {
   "cell_type": "code",
   "execution_count": 20,
   "metadata": {},
   "outputs": [
    {
     "data": {
      "text/plain": [
       "{True}"
      ]
     },
     "execution_count": 20,
     "metadata": {},
     "output_type": "execute_result"
    }
   ],
   "source": [
    "set(orders['shopping_cart'].apply(lambda x: isinstance(x, str)))\n",
    "# All values in the 'shopping_cart' column is a string"
   ]
  },
  {
   "cell_type": "code",
   "execution_count": 21,
   "metadata": {},
   "outputs": [],
   "source": [
    "orders['shopping_cart'] = \\\n",
    "orders['shopping_cart'].apply(lambda x: list(zip(re.findall(r\"\\(\\'(.+?)\\',\",x), [int(qty) for qty in re.findall(r\"\\, ([0-9]{1})\\)\",x)])))\n",
    "# converting the data type of values in 'shopping_cart' column into a list of tuples using list() and zip()\n",
    "\n",
    "# with regex, extracting two elements in each tuple - the product name and the order quantity \n",
    "# r\"\\(\\'(.+?)\\',\" - the raw strings, any characters between '(' and ',' quoted by '' but not greedy\n",
    "# r\"\\, ([0-9]{1})\\)\" - the raw strings, one-digit number between 0 and 9 located in between ', ' and ')' \n",
    "# re.findall extracts all the strings matching the regex input, and returns a list composed of all the matching strings \n",
    "\n",
    "# zip two lists together into multiple tuples and then put all the tuples into a list "
   ]
  },
  {
   "cell_type": "code",
   "execution_count": 22,
   "metadata": {},
   "outputs": [
    {
     "data": {
      "text/plain": [
       "{True}"
      ]
     },
     "execution_count": 22,
     "metadata": {},
     "output_type": "execute_result"
    }
   ],
   "source": [
    "set(orders['shopping_cart'].apply(lambda x: isinstance(x, list)))\n",
    "# The shopping_cart is now lists of tuples"
   ]
  },
  {
   "cell_type": "markdown",
   "metadata": {},
   "source": [
    "After converting the strings in the ``shopping_cart`` column into lists, we need to validate the product names in each tuple and detect any potential inconsistencies or faulty values."
   ]
  },
  {
   "cell_type": "code",
   "execution_count": 23,
   "metadata": {},
   "outputs": [],
   "source": [
    "uniqueItems = set([i[0] for i in list(chain.from_iterable(orders.shopping_cart))])\n",
    "# with chain.from_iterable() to loop through all the tuples in shopping_cart column \n",
    "# the first element in the tuple is the product name \n",
    "# use set to filter all the duplicated product name - similar to pd.unique() for extracting unique values in a series"
   ]
  },
  {
   "cell_type": "code",
   "execution_count": 24,
   "metadata": {},
   "outputs": [
    {
     "name": "stdout",
     "output_type": "stream",
     "text": [
      "The number of unique products sold is: 10 \n",
      "The unique products are:\n",
      " iAssist Line,\n",
      "Thunder line,\n",
      "Alcon 10,\n",
      "Olivia x460,\n",
      "Universe Note,\n",
      "Candle Inferno,\n",
      "iStream,\n",
      "Toshika 750,\n",
      "Lucent 330S,\n",
      "pearTV\n"
     ]
    }
   ],
   "source": [
    "print('The number of unique products sold is:',len(uniqueItems),\\\n",
    "      '\\nThe unique products are:\\n',',\\n'.join(uniqueItems))\n",
    "# 10 unique products, no inconsistencies or misspellings observed amongst the product names listed."
   ]
  },
  {
   "cell_type": "markdown",
   "metadata": {},
   "source": [
    "### 5. Validating Numerical Values with Suitable Domains\n",
    "\n",
    "For the columns with numerical values, such as ``order_price``, ``order_total``, and ``distance_to_nearest_warehouse``, the value should be positive integers. Since the data set recorded each transaction that has taken place, the values should also not equal to zero. To check if the values in forementioned columns are in the right domain, I ran a ``for``-loop and checked each value in these columns by calling ``.loc[]`` function. "
   ]
  },
  {
   "cell_type": "code",
   "execution_count": 25,
   "metadata": {},
   "outputs": [],
   "source": [
    "for i in range(orders.shape[0]): \n",
    "    if orders.loc[i, 'order_price']<=0\\\n",
    "    or orders.loc[i, 'order_total']<=0\\\n",
    "    or orders.loc[i, 'distance_to_nearest_warehouse']<0: \n",
    "        print(i)\n",
    "# All values in these three columns are in the correct domain. No syntactic errors detected. "
   ]
  },
  {
   "cell_type": "markdown",
   "metadata": {},
   "source": [
    "### 6. Validating Date Format Consistency\n",
    "\n",
    "According to the meta data, the date should follow 'YYYY-MM-DD' format. To validate the date format, I created a regex as follow: \n",
    "\n",
    "``2019-((0[13578]|1[02])-(0[1-9]|[12][0-9]|[3][01]))|(0[469]|11)-(0[1-9]|[12][0-9]|30)|02-(0[1-9]|1[0-9]|2[0-8])``\n",
    "\n",
    "a string starts with '2019-'followed by different MM-DD combinations, connected by ``|``: \n",
    "* ``((0[13578]|1[02])-(0[1-9]|[12][0-9]|[3][01]))``: the months that have 31 days in total and are single-digit should starts with a 0. The months with 31 days should be Jan, Mar, May, Jul, Aug, Oct, and Dec. The single-digit days should also start with 0. The days starting with 0 should be followed by a digit ranging from 0 - 9. The days starting with 1 or 2 should also be followed by a digit ranging from 0 - 9. The days starting with 3 should be either 30 or 31. \n",
    "\n",
    "* ``(0[469]|11)-(0[1-9]|[12][0-9]|30)``: the months with 30 days in total - months with single-digit, Apr, Jun, Sep, should start with 0. Or else the month should be Nov. The days with single digit should also start with 0. Additionally, the days starting with 0, 1, or 2 should be followed by a digit ranging from 0 to 9. The days starting with 3 should be only 30. \n",
    "\n",
    "* ``02-(0[1-9]|1[0-9]|2[0-8])``: 2019 is a non-leap year, and therefore there are only 28 days in February. February is a single-digit month, denoted as '02'. The single-digit days should also start with 0. The days starting with 0 should be followed by a digit ranging from 0 - 9. The days starting with 1 should also be followed by a single number ranging from 0 - 9. The days starting with 2 should be followed by a digit ranging from 0 to 8. \n",
    "\n",
    "The date value that does not match this regex does not 'YYYY-MM-DD' format."
   ]
  },
  {
   "cell_type": "code",
   "execution_count": 26,
   "metadata": {},
   "outputs": [
    {
     "data": {
      "text/plain": [
       "257    2019-27-12\n",
       "387    2019-25-04\n",
       "406    2019-13-05\n",
       "412    2019-15-03\n",
       "171    2019-18-10\n",
       "299    07-10-2019\n",
       "303    05-10-2019\n",
       "435    2019-29-12\n",
       "186    2019-19-04\n",
       "190    2019-22-10\n",
       "447    05-08-2019\n",
       "327    2019-16-03\n",
       "457    07-07-2019\n",
       "338    2019-26-11\n",
       "84     2019-29-10\n",
       "212    2019-20-10\n",
       "469    2019-29-10\n",
       "88     2019-25-01\n",
       "352    2019-24-12\n",
       "225    2019-27-05\n",
       "111    2019-22-05\n",
       "120    2019-16-07\n",
       "Name: date, dtype: object"
      ]
     },
     "execution_count": 26,
     "metadata": {},
     "output_type": "execute_result"
    }
   ],
   "source": [
    "index_inconsistentDate=set()\n",
    "# create an empty set to record the index of the rows whose date format is inconsistant\n",
    "\n",
    "for i in range(orders.shape[0]):\n",
    "# loop through each date value by its index and .loc[] function\n",
    "    if not re.findall(r'2019-((0[13578]|1[02])-(0[1-9]|[12][0-9]|[3][01]))|(0[469]|11)-(0[1-9]|[12][0-9]|30)|02-(0[1-9]|1[0-9]|2[0-8])', orders.loc[i,'date']):\n",
    "    # if re.findall() with the regex returns an empty list\n",
    "        syntatical.append(i)\n",
    "        # append the row index to syntactical list\n",
    "        index_inconsistentDate.add(i)\n",
    "        # add the index to index_inconsistentDate set\n",
    "\n",
    "orders.loc[index_inconsistentDate,'date']\n",
    "# retrieve the date values whose index is in index_inconsistentDate set"
   ]
  },
  {
   "cell_type": "markdown",
   "metadata": {},
   "source": [
    "The date values whose date format does not follow 'YYYY-MM-DD' format has two different date format: YYYY-DD-MM or DD(MM)-MM(DD)-YYYY. Since we cannot determine which date format exactly DD(MM)-MM(DD)-YYYY is, we can cross-compare the 'season' column and the date column of these rows, **under the assumption that the season column of these rows are correct**. "
   ]
  },
  {
   "cell_type": "code",
   "execution_count": 27,
   "metadata": {},
   "outputs": [
    {
     "data": {
      "text/html": [
       "<div>\n",
       "<style scoped>\n",
       "    .dataframe tbody tr th:only-of-type {\n",
       "        vertical-align: middle;\n",
       "    }\n",
       "\n",
       "    .dataframe tbody tr th {\n",
       "        vertical-align: top;\n",
       "    }\n",
       "\n",
       "    .dataframe thead th {\n",
       "        text-align: right;\n",
       "    }\n",
       "</style>\n",
       "<table border=\"1\" class=\"dataframe\">\n",
       "  <thead>\n",
       "    <tr style=\"text-align: right;\">\n",
       "      <th></th>\n",
       "      <th>date</th>\n",
       "      <th>season</th>\n",
       "    </tr>\n",
       "  </thead>\n",
       "  <tbody>\n",
       "    <tr>\n",
       "      <th>299</th>\n",
       "      <td>07-10-2019</td>\n",
       "      <td>Spring</td>\n",
       "    </tr>\n",
       "    <tr>\n",
       "      <th>303</th>\n",
       "      <td>05-10-2019</td>\n",
       "      <td>Spring</td>\n",
       "    </tr>\n",
       "    <tr>\n",
       "      <th>447</th>\n",
       "      <td>05-08-2019</td>\n",
       "      <td>Winter</td>\n",
       "    </tr>\n",
       "    <tr>\n",
       "      <th>457</th>\n",
       "      <td>07-07-2019</td>\n",
       "      <td>Winter</td>\n",
       "    </tr>\n",
       "  </tbody>\n",
       "</table>\n",
       "</div>"
      ],
      "text/plain": [
       "           date  season\n",
       "299  07-10-2019  Spring\n",
       "303  05-10-2019  Spring\n",
       "447  05-08-2019  Winter\n",
       "457  07-07-2019  Winter"
      ]
     },
     "execution_count": 27,
     "metadata": {},
     "output_type": "execute_result"
    }
   ],
   "source": [
    "ambiguousDate =[299,303,447,457]\n",
    "# the index of rows whose date value follows an ambiguous date format\n",
    "orders.loc[ambiguousDate,['date','season']]\n",
    "# retrieve the date and season of the rows whose index is in ambiguousDate list"
   ]
  },
  {
   "cell_type": "markdown",
   "metadata": {},
   "source": [
    "According to the Climate Glossary published by Australian government Bureau of Meteorology, June, July, and August are winter and October is spring. Under the assumption that the ``season`` values of these rows above do not contain any *semantic errors*, we can assume that the date format of these four dates follow a DD-MM-YYYY format. \n",
    "\n",
    "To convert the date format of these inconsistent date values, I used ``for``-loop to loop through ``index_inconsistentDate`` set and retrieve the date of rows, whose index is in this set. The strings that starts with '2019' is in YYYY-DD-MM format, otherwise DD-MM-YYYY. To avoid the slicing and assembling process, I called ``pd.to_datetime()`` function to convert the date into 'YYYY-MM-DD HH:MM:SS\" format. Then I converted the returned values into strings and only saved the date part of the string. "
   ]
  },
  {
   "cell_type": "code",
   "execution_count": 28,
   "metadata": {},
   "outputs": [],
   "source": [
    "for i in index_inconsistentDate:\n",
    "# looping through the index with inconsistant date format stored in index_inconsistentDate set\n",
    "    if orders.loc[i,'date'].startswith('2019'): \n",
    "    # The date values starting with 2019 follows 'YYYY-DD-MM' format (denoted as '%Y-%d-%m')\n",
    "        orders.loc[i,'date'] = pd.to_datetime(orders.loc[i,'date'], format = '%Y-%d-%m')\n",
    "        # convert these strings into date types with 'YYYY-MM-DD HH:MM:SS' format using pd.to_datetime\n",
    "    else: \n",
    "    # otherwise, the dates follow DD-MM-YYYY format (denoted as '%d-%m-%Y')\n",
    "        orders.loc[i,'date'] = pd.to_datetime(orders.loc[i,'date'], format = '%d-%m-%Y')\n",
    "        # convert these strings into date types with 'YYYY-MM-DD HH:MM:SS' format using pd.to_datetime\n",
    "        \n",
    "    orders.loc[i,'date'] = str(orders.loc[i,'date']).split()[0]\n",
    "    # convert the date values into strings and only save the date part of the string"
   ]
  },
  {
   "cell_type": "code",
   "execution_count": 29,
   "metadata": {},
   "outputs": [],
   "source": [
    "for i in range(orders.shape[0]):\n",
    "    if not re.findall(r'2019-((0[13578]|1[02])-(0[1-9]|[12][0-9]|[3][01]))|(0[469]|11)-(0[1-9]|[12][0-9]|30)|02-(0[1-9]|1[0-9]|2[0-8])', orders.loc[i,'date']):\n",
    "        print(orders.loc[i,'date'])\n",
    "# double check if there is any other date values whose date format is inconsistant"
   ]
  },
  {
   "cell_type": "code",
   "execution_count": 30,
   "metadata": {},
   "outputs": [
    {
     "data": {
      "text/plain": [
       "True"
      ]
     },
     "execution_count": 30,
     "metadata": {},
     "output_type": "execute_result"
    }
   ],
   "source": [
    "sorted(list(set(syntatical))) == sorted(syntatical)\n",
    "# no rows with more than one syntactical errors observed"
   ]
  },
  {
   "cell_type": "markdown",
   "metadata": {},
   "source": [
    "## Semantic Error "
   ]
  },
  {
   "cell_type": "code",
   "execution_count": 31,
   "metadata": {},
   "outputs": [],
   "source": [
    "semantic = list()\n",
    "# the list to record the index of rows with semantic errors "
   ]
  },
  {
   "cell_type": "markdown",
   "metadata": {},
   "source": [
    "### 0. Detect Unique Constraint & Integrity Constraint Violation\n",
    "\n",
    "Before starting with correcting all the semantic errors, we should first check if the identifying keys in the data set violated the unique constraints or not. We should therefore, check if the ``order_id`` column contains no duplicates. Additionally, we should also check if the ``customer_lat`` and ``customer_long`` values matches each and every unique ``customer_id``, in order to detect violation in integrity constraint."
   ]
  },
  {
   "cell_type": "code",
   "execution_count": 32,
   "metadata": {},
   "outputs": [
    {
     "data": {
      "text/plain": [
       "Series([], Name: order_id, dtype: object)"
      ]
     },
     "execution_count": 32,
     "metadata": {},
     "output_type": "execute_result"
    }
   ],
   "source": [
    "orders.order_id[orders.duplicated(['order_id'], keep = False)]\n",
    "# no duplicated order_id detected"
   ]
  },
  {
   "cell_type": "code",
   "execution_count": 33,
   "metadata": {},
   "outputs": [
    {
     "data": {
      "text/plain": [
       "5"
      ]
     },
     "execution_count": 33,
     "metadata": {},
     "output_type": "execute_result"
    }
   ],
   "source": [
    "customers_withMultipleOrders=set(orders.customer_id[orders.duplicated(['customer_id'], keep = False)])\n",
    "# retrieve the customer ID appeared more than once and collect them into a set to retrieve unique IDs \n",
    "len(customers_withMultipleOrders)\n",
    "# 5 customers placed more than one order"
   ]
  },
  {
   "cell_type": "code",
   "execution_count": 34,
   "metadata": {},
   "outputs": [
    {
     "data": {
      "text/html": [
       "<div>\n",
       "<style scoped>\n",
       "    .dataframe tbody tr th:only-of-type {\n",
       "        vertical-align: middle;\n",
       "    }\n",
       "\n",
       "    .dataframe tbody tr th {\n",
       "        vertical-align: top;\n",
       "    }\n",
       "\n",
       "    .dataframe thead th {\n",
       "        text-align: right;\n",
       "    }\n",
       "</style>\n",
       "<table border=\"1\" class=\"dataframe\">\n",
       "  <thead>\n",
       "    <tr style=\"text-align: right;\">\n",
       "      <th></th>\n",
       "      <th>customer_id</th>\n",
       "      <th>customer_lat</th>\n",
       "      <th>customer_long</th>\n",
       "      <th>distance_to_nearest_warehouse</th>\n",
       "    </tr>\n",
       "  </thead>\n",
       "  <tbody>\n",
       "    <tr>\n",
       "      <th>176</th>\n",
       "      <td>ID1462399059</td>\n",
       "      <td>-37.820028</td>\n",
       "      <td>145.015796</td>\n",
       "      <td>2.1254</td>\n",
       "    </tr>\n",
       "    <tr>\n",
       "      <th>194</th>\n",
       "      <td>ID0267319278</td>\n",
       "      <td>-37.823141</td>\n",
       "      <td>144.970797</td>\n",
       "      <td>0.5178</td>\n",
       "    </tr>\n",
       "    <tr>\n",
       "      <th>403</th>\n",
       "      <td>ID0746924716</td>\n",
       "      <td>-37.824258</td>\n",
       "      <td>144.985036</td>\n",
       "      <td>1.5005</td>\n",
       "    </tr>\n",
       "    <tr>\n",
       "      <th>413</th>\n",
       "      <td>ID0582560122</td>\n",
       "      <td>-37.822172</td>\n",
       "      <td>144.978487</td>\n",
       "      <td>0.8809</td>\n",
       "    </tr>\n",
       "    <tr>\n",
       "      <th>422</th>\n",
       "      <td>ID0571731482</td>\n",
       "      <td>-37.824398</td>\n",
       "      <td>144.944631</td>\n",
       "      <td>1.3226</td>\n",
       "    </tr>\n",
       "  </tbody>\n",
       "</table>\n",
       "</div>"
      ],
      "text/plain": [
       "      customer_id  customer_lat  customer_long  distance_to_nearest_warehouse\n",
       "176  ID1462399059    -37.820028     145.015796                         2.1254\n",
       "194  ID0267319278    -37.823141     144.970797                         0.5178\n",
       "403  ID0746924716    -37.824258     144.985036                         1.5005\n",
       "413  ID0582560122    -37.822172     144.978487                         0.8809\n",
       "422  ID0571731482    -37.824398     144.944631                         1.3226"
      ]
     },
     "execution_count": 34,
     "metadata": {},
     "output_type": "execute_result"
    }
   ],
   "source": [
    "duplicateCustomers = orders.loc[orders['customer_id'].isin(customers_withMultipleOrders),['customer_id','customer_lat', 'customer_long','distance_to_nearest_warehouse']]\n",
    "# detecting referential integrity violation \n",
    "# retrieve customer_lat, customer_long, distance_to_nearest_warehouse, which should be unique to each customer \n",
    "\n",
    "duplicateCustomers[duplicateCustomers.duplicated(['customer_id'])]\n",
    "# customer_lat, customer_long, and distance_to_nearest_warehouse of the customers with duplicate IDs in the data set \n",
    "# customer_lat, customer_long, and distance_to_nearest_warehouse in each transaction is consistant \n",
    "# no referential integrity violation detected "
   ]
  },
  {
   "cell_type": "markdown",
   "metadata": {},
   "source": [
    "### 1. Correct ``nearest_warehouse`` and relative ``distance_to_nearest_warehouse``\n",
    "\n",
    "The numerical values in ``distance_to_nearest_warehouse`` column is a haversine distance calculated based on the latitude and longitude of warehouse and customers. To check if the column has any anomalies, we need to calculate the haversine distance between the customer and the warehouse manually and compare the new and original values. The latitude and longitude of the nearest warehouses were recorded in ``warehouse.csv`` file. \n",
    "\n",
    "To do so, I imported ``haversine`` function from ``haversine`` library, which takes two $(\\text{latitude}, \n",
    "\\text{longitude})$ tuples parameters and returns a floating value representing the distance between two spatial points. \n",
    "\n",
    "However, since we cannot guarantee that ``nearest_warehouse`` is free of semantic error, I used the coordinates of all the warehouses provided in ``warehouse.csv`` file and calculated the distance between the customer location and all the warehouses, and selected the warehouse with the shortest distance to the customer as the real nearest warehouse value. \n",
    "\n",
    "To check the anomalies in these two columns, I followed the steps as follow: \n",
    "\n",
    "1. Create dictionary containing the $(\\text{latitude}, \\text{longitude})$ tuple of respective warehouses.\n",
    "2. Create new columns named after each warehouse, whose values are the distance between the customer and the matching warehouse.\n",
    "3. Calculate the haversine distance between each warehouse and the customer locations with ``haversine()`` function. The calculated distance is rounded to 4 decimals.\n",
    "4. Create a new column ``recalc_nearest_warehouse`` by selecting the warehouse with the shortest distance to the customer in each row\n",
    "5. Create a new column ``recalc_distance_to_nearest_warehouse`` by inserting the distance between the customer and the nearest warehouse in recalc_nearest_warehouse column\n",
    "6. Subtract the values in ``distance_to_nearest_warehouse`` and ``recalc_distance_to_nearest_warehouse`` column. To acknowledge the marginal difference in the calculation of ``haversine()`` function and the original value, the rows whose difference between two columns is larger than $0.005 (5m)$ is recorded as faulty.\n",
    "5. Replace the faulty values in ``distance_to_nearest_warehouse`` and ``nearest_warehouse`` column using ``.loc[]`` function."
   ]
  },
  {
   "cell_type": "code",
   "execution_count": 35,
   "metadata": {},
   "outputs": [],
   "source": [
    "warehouse.columns = ['nearest_warehouse','warehouse_lat','warehouse_lon']\n",
    "# rename the warehouse columns"
   ]
  },
  {
   "cell_type": "code",
   "execution_count": 36,
   "metadata": {},
   "outputs": [],
   "source": [
    "warehouseLocation = dict(zip(warehouse['nearest_warehouse'],\\\n",
    "                             zip(warehouse['warehouse_lat'],warehouse['warehouse_lon'])))\n",
    "# create a dictionary of tuples\n",
    "# the warehouse name is the key \n",
    "# the value is the coordinate of each warehouse"
   ]
  },
  {
   "cell_type": "code",
   "execution_count": 37,
   "metadata": {},
   "outputs": [],
   "source": [
    "for warehouseName in warehouseLocation.keys():\n",
    "# for each warehouse name in the warehouseLocation dictionary\n",
    "    orders[warehouseName] = np.nan\n",
    "    # create a column named after the warehouse name\n",
    "    for i in orders.index:\n",
    "        # for each row in orders data frame\n",
    "        customer_location = (orders.loc[i,'customer_lat'],orders.loc[i,'customer_long'])\n",
    "        # create a tuple with the coordinates of the customer location \n",
    "        orders.loc[i, warehouseName] = round(haversine(customer_location,warehouseLocation[warehouseName]),4)\n",
    "        # the column of the warehouse name is the distance between the customer and the warehouse \n",
    "        # rounded to 4 decimal places "
   ]
  },
  {
   "cell_type": "code",
   "execution_count": 38,
   "metadata": {},
   "outputs": [],
   "source": [
    "orders['recalc_nearest_warehouse'] = orders[set(warehouseLocation.keys())].idxmin(axis = 1)\n",
    "# select the warehouse with the shortest distance to the customers\n",
    "orders['recalc_distance_to_nearest_warehouse'] = orders[set(warehouseLocation.keys())].min(axis = 1)\n",
    "# select the shortest distance to the customer amongst three warehouse columns "
   ]
  },
  {
   "cell_type": "code",
   "execution_count": 39,
   "metadata": {},
   "outputs": [],
   "source": [
    "faultyNearestWarehouseIndex = list(orders.index[orders.nearest_warehouse != orders.recalc_nearest_warehouse])\n",
    "# the index whose nearest_warehouse value does not match the newly retrieved value \n",
    "faultyDistanceWarehouseIndex = list(orders.index[orders['distance_to_nearest_warehouse'] - orders['recalc_distance_to_nearest_warehouse'] >0.005])\n",
    "# the index whose distance_to_nearest_warehouse value does not match the newly retrieved value \n",
    "semantic += faultyNearestWarehouseIndex+faultyDistanceWarehouseIndex\n",
    "# append the indexes above to semantic list \n",
    "\n",
    "orders.loc[faultyNearestWarehouseIndex, 'nearest_warehouse']= orders.loc[faultyNearestWarehouseIndex, 'recalc_nearest_warehouse']\n",
    "# faulty nearest_warehouse values are replaced with the correct ones \n",
    "\n",
    "orders.loc[faultyDistanceWarehouseIndex,'distance_to_nearest_warehouse'] = \\\n",
    "orders.loc[faultyDistanceWarehouseIndex, 'recalc_distance_to_nearest_warehouse']\n",
    "# faulty distance_to_nearest_warehouse values are replaced with the correct ones "
   ]
  },
  {
   "cell_type": "code",
   "execution_count": 40,
   "metadata": {},
   "outputs": [],
   "source": [
    "orders.drop([ 'Nickolson', 'Thompson', 'Bakers','recalc_nearest_warehouse', 'recalc_distance_to_nearest_warehouse'],\\\n",
    "           axis = 1, inplace = True)\n",
    "# all the columns that were not in the original data frame are dropped "
   ]
  },
  {
   "cell_type": "markdown",
   "metadata": {},
   "source": [
    "### 2. Matching Review and Customer Emotion\n",
    "\n",
    "To check the accuracy of ``is_happy_customer`` column, we evaluate the emotions conveyed by the review via compound polarity scores calculated from ``SentimentIntensityAnalyzer().polarity_scores()``. The score higher than $0.05$ is considered as 'happy' and vice versa. Therefore, the reviews whose polarity scores is higher than or equal to $0.05$ should have ``True`` in the ``is_happy_customer`` column. To check this, I used the following steps: \n",
    "\n",
    "1. Create a new column ``estimatedEmotion`` and calculate the compound polarity score of each review by calling ``.apply()`` function. \n",
    "2. Retrieve the rows whose ``is_happy_customer`` is False while ``estimatedEmotion`` $\\geq 0.05$, or the ones with True while ``estimatedEmotion`` $< 0.05$. Record the index of these rows into ``semantic`` list \n",
    "3. Correct ``is_happy_customer`` column of these rows using ``.loc[]`` function \n",
    "4. Drop ``estimatedEmotion`` column after double checking all the rows "
   ]
  },
  {
   "cell_type": "code",
   "execution_count": 41,
   "metadata": {},
   "outputs": [],
   "source": [
    "sid = SentimentIntensityAnalyzer()\n",
    "orders['estimatedEmotion'] = orders.latest_customer_review.apply(lambda x: sid.polarity_scores(x)['compound'])"
   ]
  },
  {
   "cell_type": "code",
   "execution_count": 42,
   "metadata": {},
   "outputs": [
    {
     "name": "stderr",
     "output_type": "stream",
     "text": [
      "/Users/dahyekim/opt/anaconda3/lib/python3.7/site-packages/ipykernel_launcher.py:1: SettingWithCopyWarning: \n",
      "A value is trying to be set on a copy of a slice from a DataFrame\n",
      "\n",
      "See the caveats in the documentation: https://pandas.pydata.org/pandas-docs/stable/user_guide/indexing.html#returning-a-view-versus-a-copy\n",
      "  \"\"\"Entry point for launching an IPython kernel.\n"
     ]
    }
   ],
   "source": [
    "orders['estimatedEmotion'][orders.latest_customer_review=='None'] = 0.05\n",
    "# the word 'None' has a polarity score of 0. \n",
    "# the emotion of the customers who did not make any purchase before is regarded as 'happy'"
   ]
  },
  {
   "cell_type": "code",
   "execution_count": 43,
   "metadata": {},
   "outputs": [],
   "source": [
    "semantic +=list(orders.index[((orders.is_happy_customer==True) & (orders.estimatedEmotion <0.05))|\\\n",
    "            ((orders.is_happy_customer==False) & (orders.estimatedEmotion >=0.05))])"
   ]
  },
  {
   "cell_type": "code",
   "execution_count": 44,
   "metadata": {},
   "outputs": [],
   "source": [
    "orders.loc[list(orders.index[(orders.is_happy_customer==True) & (orders.estimatedEmotion <0.05)]),'is_happy_customer'] = False\n",
    "# is_happy_customer is changed to False for those rows whose estimatedEmotion is less than 0.5 but is_happy_customer is True\n",
    "\n",
    "orders.loc[list(orders.index[(orders.is_happy_customer==False) & (orders.estimatedEmotion >=0.05)]),'is_happy_customer'] = True\n",
    "# is_happy_customer is changed to True for those rows whose estimatedEmotion is larger than or equal to 0.5 but is_happy_customer is False"
   ]
  },
  {
   "cell_type": "code",
   "execution_count": 45,
   "metadata": {},
   "outputs": [
    {
     "name": "stdout",
     "output_type": "stream",
     "text": [
      "All the reviews and customer happiness index matches.\n"
     ]
    }
   ],
   "source": [
    "if not set(orders.index[((orders.is_happy_customer==True) & (orders.estimatedEmotion <0.05))|\\\n",
    "            ((orders.is_happy_customer==False) & (orders.estimatedEmotion >=0.05))]): \n",
    "    print('All the reviews and customer happiness index matches.')\n",
    "    # double check it the estimatedEmotion scores matches is_happy_customer values by retrieving indexes of faulty rows\n",
    "    # if the set is empty, is_happy_customer column is correct."
   ]
  },
  {
   "cell_type": "code",
   "execution_count": 46,
   "metadata": {},
   "outputs": [],
   "source": [
    "orders.drop('estimatedEmotion', axis = 1, inplace = True)\n",
    "# drop the column that is not in the original data frame"
   ]
  },
  {
   "cell_type": "markdown",
   "metadata": {},
   "source": [
    "### 3. Order Price , Total Price , and Shopping Cart\n",
    "#### 3.1 Calculating Unit Price\n",
    "\n",
    "To calculate the accuracy of ``order_price`` and ``order_total``, we should first obtain the unit price of each product. Since each row only contains one error from semantic anomalies, the rows whose index is in ``semantic`` list is now assumed to be error-free. Therefore, to calculate the unit price, I used ``linalg.solve()`` to solve the linear system for 10 variables (here, 10 unique products). After the calculation, I recorded the unit price to a dictionary ``productPrice`` with matching unique product. To do so, I used the following steps: \n",
    "\n",
    "1. Retrieve the ``shopping_cart`` and ``order_price`` columns of the rows whose index is recorded in ``semantic`` list.\n",
    "2. Loop through each row and append ``order_price`` value into as a tuple into the each ``shopping_cart`` list. This is for facilitating the data frame creation process \n",
    "3. Create a dictionary to record the order quantity of each unique item in each row. The ``order_price`` of each row is also recorded in the dictionary as it was appended into the list at step 2 as a tuple.\n",
    "3. Append all dictionaries into a list ``ordersDetail``. \n",
    "4. Call ``pd.DataFrame()`` function with ``ordersDetail`` list as the input parameter, creating a *matrix-looking* data frame called ``ordersDetail``. The columns of  ``ordersDetail`` data frame is the unique product and the order price, each row represents one trasaction occurred in the original data frame. The product columns with ``NaN`` are replaced with 0 via ``fillna()`` function.\n",
    "    * I created a data frame in order to maintain the order of each transaction and to ease the process of matching the unique price calcuated from the linear system to the correct product\n",
    "5. Create ``np.array`` with the first 10 rows of the data frame ``ordersDetail``. Create another ``np.array``, the list of ``order_price`` from the first 10 rows. \n",
    "6. Solve the linear system using ``np.linalg.solve()``, record the product price to a dictionary called ``productPrice`` along with the matching item names. "
   ]
  },
  {
   "cell_type": "code",
   "execution_count": 47,
   "metadata": {},
   "outputs": [],
   "source": [
    "orderPrice = orders.loc[semantic, ['shopping_cart','order_price']]\n",
    "# retrieve the rows whose index is in semantic, and only the 'shopping_cart' and 'order_price' columns"
   ]
  },
  {
   "cell_type": "code",
   "execution_count": 48,
   "metadata": {},
   "outputs": [],
   "source": [
    "for i in orderPrice.index: \n",
    "    orderPrice.loc[i, 'shopping_cart'].append(('order_price',orderPrice.loc[i,'order_price']))\n",
    "    # append the ('order_price', price) tuple into the matching row of shopping_cart"
   ]
  },
  {
   "cell_type": "code",
   "execution_count": 49,
   "metadata": {},
   "outputs": [],
   "source": [
    "ordersDetail = list(orderPrice.shopping_cart.apply(lambda x: {tup[0]: tup[1] for tup in x}))\n",
    "# convert the tuples in the shopping_cart column into dictionaries, append to a list\n",
    "ordersDetail = pd.DataFrame(ordersDetail)\n",
    "# create a matrix-looking data frame, whose column is the key of each dictionary in ordersDetail list\n",
    "ordersDetail.fillna(0, inplace = True)\n",
    "# fill the empty values with 0 "
   ]
  },
  {
   "cell_type": "code",
   "execution_count": 50,
   "metadata": {},
   "outputs": [
    {
     "data": {
      "text/html": [
       "<div>\n",
       "<style scoped>\n",
       "    .dataframe tbody tr th:only-of-type {\n",
       "        vertical-align: middle;\n",
       "    }\n",
       "\n",
       "    .dataframe tbody tr th {\n",
       "        vertical-align: top;\n",
       "    }\n",
       "\n",
       "    .dataframe thead th {\n",
       "        text-align: right;\n",
       "    }\n",
       "</style>\n",
       "<table border=\"1\" class=\"dataframe\">\n",
       "  <thead>\n",
       "    <tr style=\"text-align: right;\">\n",
       "      <th></th>\n",
       "      <th>Lucent 330S</th>\n",
       "      <th>Olivia x460</th>\n",
       "      <th>iAssist Line</th>\n",
       "      <th>order_price</th>\n",
       "      <th>Candle Inferno</th>\n",
       "      <th>Thunder line</th>\n",
       "      <th>Alcon 10</th>\n",
       "      <th>Universe Note</th>\n",
       "      <th>iStream</th>\n",
       "      <th>pearTV</th>\n",
       "      <th>Toshika 750</th>\n",
       "    </tr>\n",
       "  </thead>\n",
       "  <tbody>\n",
       "    <tr>\n",
       "      <th>0</th>\n",
       "      <td>2.0</td>\n",
       "      <td>1.0</td>\n",
       "      <td>1.0</td>\n",
       "      <td>5910</td>\n",
       "      <td>0.0</td>\n",
       "      <td>0.0</td>\n",
       "      <td>0.0</td>\n",
       "      <td>0.0</td>\n",
       "      <td>0.0</td>\n",
       "      <td>0.0</td>\n",
       "      <td>0.0</td>\n",
       "    </tr>\n",
       "    <tr>\n",
       "      <th>1</th>\n",
       "      <td>0.0</td>\n",
       "      <td>0.0</td>\n",
       "      <td>0.0</td>\n",
       "      <td>5220</td>\n",
       "      <td>2.0</td>\n",
       "      <td>2.0</td>\n",
       "      <td>0.0</td>\n",
       "      <td>0.0</td>\n",
       "      <td>0.0</td>\n",
       "      <td>0.0</td>\n",
       "      <td>0.0</td>\n",
       "    </tr>\n",
       "    <tr>\n",
       "      <th>2</th>\n",
       "      <td>1.0</td>\n",
       "      <td>1.0</td>\n",
       "      <td>0.0</td>\n",
       "      <td>13585</td>\n",
       "      <td>0.0</td>\n",
       "      <td>1.0</td>\n",
       "      <td>1.0</td>\n",
       "      <td>0.0</td>\n",
       "      <td>0.0</td>\n",
       "      <td>0.0</td>\n",
       "      <td>0.0</td>\n",
       "    </tr>\n",
       "    <tr>\n",
       "      <th>3</th>\n",
       "      <td>0.0</td>\n",
       "      <td>0.0</td>\n",
       "      <td>0.0</td>\n",
       "      <td>9510</td>\n",
       "      <td>1.0</td>\n",
       "      <td>1.0</td>\n",
       "      <td>0.0</td>\n",
       "      <td>2.0</td>\n",
       "      <td>0.0</td>\n",
       "      <td>0.0</td>\n",
       "      <td>0.0</td>\n",
       "    </tr>\n",
       "    <tr>\n",
       "      <th>4</th>\n",
       "      <td>0.0</td>\n",
       "      <td>0.0</td>\n",
       "      <td>0.0</td>\n",
       "      <td>7320</td>\n",
       "      <td>2.0</td>\n",
       "      <td>0.0</td>\n",
       "      <td>0.0</td>\n",
       "      <td>0.0</td>\n",
       "      <td>1.0</td>\n",
       "      <td>1.0</td>\n",
       "      <td>0.0</td>\n",
       "    </tr>\n",
       "    <tr>\n",
       "      <th>5</th>\n",
       "      <td>0.0</td>\n",
       "      <td>0.0</td>\n",
       "      <td>1.0</td>\n",
       "      <td>20555</td>\n",
       "      <td>1.0</td>\n",
       "      <td>0.0</td>\n",
       "      <td>2.0</td>\n",
       "      <td>0.0</td>\n",
       "      <td>0.0</td>\n",
       "      <td>0.0</td>\n",
       "      <td>0.0</td>\n",
       "    </tr>\n",
       "    <tr>\n",
       "      <th>6</th>\n",
       "      <td>0.0</td>\n",
       "      <td>0.0</td>\n",
       "      <td>0.0</td>\n",
       "      <td>13110</td>\n",
       "      <td>0.0</td>\n",
       "      <td>1.0</td>\n",
       "      <td>0.0</td>\n",
       "      <td>0.0</td>\n",
       "      <td>2.0</td>\n",
       "      <td>1.0</td>\n",
       "      <td>1.0</td>\n",
       "    </tr>\n",
       "    <tr>\n",
       "      <th>7</th>\n",
       "      <td>0.0</td>\n",
       "      <td>2.0</td>\n",
       "      <td>0.0</td>\n",
       "      <td>18300</td>\n",
       "      <td>0.0</td>\n",
       "      <td>0.0</td>\n",
       "      <td>1.0</td>\n",
       "      <td>2.0</td>\n",
       "      <td>0.0</td>\n",
       "      <td>0.0</td>\n",
       "      <td>0.0</td>\n",
       "    </tr>\n",
       "    <tr>\n",
       "      <th>8</th>\n",
       "      <td>0.0</td>\n",
       "      <td>0.0</td>\n",
       "      <td>0.0</td>\n",
       "      <td>28460</td>\n",
       "      <td>0.0</td>\n",
       "      <td>0.0</td>\n",
       "      <td>0.0</td>\n",
       "      <td>2.0</td>\n",
       "      <td>2.0</td>\n",
       "      <td>2.0</td>\n",
       "      <td>2.0</td>\n",
       "    </tr>\n",
       "    <tr>\n",
       "      <th>9</th>\n",
       "      <td>0.0</td>\n",
       "      <td>0.0</td>\n",
       "      <td>2.0</td>\n",
       "      <td>16690</td>\n",
       "      <td>0.0</td>\n",
       "      <td>0.0</td>\n",
       "      <td>0.0</td>\n",
       "      <td>1.0</td>\n",
       "      <td>1.0</td>\n",
       "      <td>0.0</td>\n",
       "      <td>2.0</td>\n",
       "    </tr>\n",
       "  </tbody>\n",
       "</table>\n",
       "</div>"
      ],
      "text/plain": [
       "   Lucent 330S  Olivia x460  iAssist Line  order_price  Candle Inferno  \\\n",
       "0          2.0          1.0           1.0         5910             0.0   \n",
       "1          0.0          0.0           0.0         5220             2.0   \n",
       "2          1.0          1.0           0.0        13585             0.0   \n",
       "3          0.0          0.0           0.0         9510             1.0   \n",
       "4          0.0          0.0           0.0         7320             2.0   \n",
       "5          0.0          0.0           1.0        20555             1.0   \n",
       "6          0.0          0.0           0.0        13110             0.0   \n",
       "7          0.0          2.0           0.0        18300             0.0   \n",
       "8          0.0          0.0           0.0        28460             0.0   \n",
       "9          0.0          0.0           2.0        16690             0.0   \n",
       "\n",
       "   Thunder line  Alcon 10  Universe Note  iStream  pearTV  Toshika 750  \n",
       "0           0.0       0.0            0.0      0.0     0.0          0.0  \n",
       "1           2.0       0.0            0.0      0.0     0.0          0.0  \n",
       "2           1.0       1.0            0.0      0.0     0.0          0.0  \n",
       "3           1.0       0.0            2.0      0.0     0.0          0.0  \n",
       "4           0.0       0.0            0.0      1.0     1.0          0.0  \n",
       "5           0.0       2.0            0.0      0.0     0.0          0.0  \n",
       "6           1.0       0.0            0.0      2.0     1.0          1.0  \n",
       "7           0.0       1.0            2.0      0.0     0.0          0.0  \n",
       "8           0.0       0.0            2.0      2.0     2.0          2.0  \n",
       "9           0.0       0.0            1.0      1.0     0.0          2.0  "
      ]
     },
     "execution_count": 50,
     "metadata": {},
     "output_type": "execute_result"
    }
   ],
   "source": [
    "ordersDetail.head(10)"
   ]
  },
  {
   "cell_type": "markdown",
   "metadata": {},
   "source": [
    "The data frame above is the first 10 rows of ``ordersDetail`` data frame. To solve a linear system with 10 variables, we need 10 rows of arrays. Each column represents each variable for the linear system. No columns are filled with $0$ only, which means that the first 10 rows of ``ordersDetail`` data frame is sufficient to solve the linear system."
   ]
  },
  {
   "cell_type": "code",
   "execution_count": 51,
   "metadata": {},
   "outputs": [],
   "source": [
    "ordersDetail = ordersDetail[list(uniqueItems)+['order_price']]\n",
    "# change the order of the columns in order to ease the process of conversion to numpy array"
   ]
  },
  {
   "cell_type": "code",
   "execution_count": 52,
   "metadata": {
    "scrolled": true
   },
   "outputs": [
    {
     "data": {
      "text/plain": [
       "array([2225., 2180., 8950., 1225., 3450.,  430.,  150., 4320., 1230.,\n",
       "       6310.])"
      ]
     },
     "execution_count": 52,
     "metadata": {},
     "output_type": "execute_result"
    }
   ],
   "source": [
    "a = ordersDetail.iloc[:10,:-1].to_numpy()\n",
    "# create a numpy array with the first 10 rows and all the columns except for the order_price\n",
    "# only first 10 rows are retrieved in order to create 10x10 matrix at the left side of the equation\n",
    "\n",
    "b = ordersDetail.iloc[:10,-1].to_numpy()\n",
    "# the right-side of the linear equantion, which is the order_price of the first 10 rows \n",
    "\n",
    "X = np.linalg.solve(a,b)\n",
    "# returns the list of numeric values, each value represents the unit price of each product \n",
    "# the list has the same order is the column of the data frame\n",
    "X"
   ]
  },
  {
   "cell_type": "code",
   "execution_count": 53,
   "metadata": {},
   "outputs": [
    {
     "data": {
      "text/plain": [
       "{'iAssist Line': 2225.0,\n",
       " 'Thunder line': 2180.0,\n",
       " 'Alcon 10': 8950.0,\n",
       " 'Olivia x460': 1225.0,\n",
       " 'Universe Note': 3450.0,\n",
       " 'Candle Inferno': 430.0,\n",
       " 'iStream': 150.0,\n",
       " 'Toshika 750': 4320.0,\n",
       " 'Lucent 330S': 1230.0,\n",
       " 'pearTV': 6310.0}"
      ]
     },
     "execution_count": 53,
     "metadata": {},
     "output_type": "execute_result"
    }
   ],
   "source": [
    "productPrice=dict(zip(ordersDetail.columns[:-1], [round(price) for price in X]))\n",
    "# since the order of the returned vector X and the data frame column is the same, we can directly zip it and create \n",
    "# a dictionary\n",
    "# the key-value pairs of the dictionary is unique item - item unit price \n",
    "productPrice"
   ]
  },
  {
   "cell_type": "markdown",
   "metadata": {},
   "source": [
    "Since the numerical values in the ``order_price`` column are all integers, we can assume that the unit price of all the product is also an integer. Therefore, I rounded all the product prices calcualted to integers. "
   ]
  },
  {
   "cell_type": "markdown",
   "metadata": {},
   "source": [
    "After obtaining the correct unit price of each item, I was attempting to calculate the ``order_price`` and correct the errors in the column based on the new values calculated. After that, I was planning to apply the formula below to calculate the correct value of ``order_total``. \n",
    "\n",
    "$$\n",
    "\\text{total price} = \\text{order price} \\times \\frac{(100-\\text{discount rate})}{100} + \\text{delivery charge}\n",
    "$$\n",
    "\n",
    "\n",
    "\n",
    "However, this was not applicable to every single row due to the nature of this assignment - every single row only contains **one semantic error**. This means that the rows with faulty ``order_total`` should not have a faulty value in ``order_price`` column. Additionally, the *items* in the shopping cart is not guaranteed to be error-free. This implies that I should come up with a method to detect the error in ``order_total``, ``order_price``, and ``shopping_cart``, under the assumption that each row only contains one semantic error. To do so, I created three new columns: \n",
    "* ``order_price_originalCart``: the order price calculated based on the items in original shopping cart \n",
    "* ``order_total_originalOrderPrice``: the order_total calculated based on the original values in ``order_price`` column \n",
    "* ``order_total_correctOrderPrice``: the order_total calculated based on the ``order_price_correctItems``\n"
   ]
  },
  {
   "cell_type": "code",
   "execution_count": 54,
   "metadata": {},
   "outputs": [],
   "source": [
    "orders.loc[orderPrice.index,'shopping_cart'] = orders.loc[orderPrice.index,'shopping_cart'].apply(lambda x: x[:-1])\n",
    "# remove the ('order_price', price) tuple from the matching row of shopping_cart"
   ]
  },
  {
   "cell_type": "code",
   "execution_count": 55,
   "metadata": {},
   "outputs": [],
   "source": [
    "orders['order_price_originalCart']=orders['shopping_cart'].apply(lambda x: sum({productPrice[tup[0]]*int(tup[1]) for tup in x}))\n",
    "# looping through each tuple in each row \n",
    "# the order price calculated based on the items in the shopping cart is the sum of matching product price in \n",
    "# the productPrice dictionary times dthe order quantity \n",
    "\n",
    "orders['order_total_originalOrderPrice']=round(orders['order_price']*((100-orders['coupon_discount'])/100)+orders.delivery_charges,2)\n",
    "\n",
    "orders['order_total_correctOrderPrice'] =round(orders['order_price_originalCart']*((100-orders['coupon_discount'])/100)+orders.delivery_charges,2)"
   ]
  },
  {
   "cell_type": "markdown",
   "metadata": {},
   "source": [
    "#### 3.2 Detecting Errors in order_price Column\n",
    "\n",
    "The rows whose ``shopping_cart`` values contains semantic error should not have any semantic error in the ``order_price`` column. Yet, if ``shopping_cart`` column contains error, we cannot understand whether the ``order_price`` is correct or not. To detect which column the error is located at, we can cross compare the three newly created columns above to the original ``order_price`` and ``order_total`` columns. \n",
    "\n",
    "If ``(order_total_originalOrderPrice == order_total) & (order_price_orginalCart != order_price)``, then the ``shopping_cart`` might contain wrong items.  \n",
    "\n",
    "If ``(order_total_correctOrderPrice == order_total) & (order_price_originalCart != order_price)``, then the ``order_price`` column could be faulty. \n",
    "\n",
    "Therefore, to correct the semantic errors in order_price column, we need to retrieve the rows that satisfy ``(order_total_originalOrderPrice == order_total) & (order_price_originalCart != order_price)``. "
   ]
  },
  {
   "cell_type": "code",
   "execution_count": 56,
   "metadata": {},
   "outputs": [],
   "source": [
    "faultyCart = list(orders.index[(orders.order_total_originalOrderPrice==orders.order_total)&\\\n",
    "                              (orders.order_price_originalCart != orders.order_price)])\n",
    "semantic+=faultyCart"
   ]
  },
  {
   "cell_type": "code",
   "execution_count": 57,
   "metadata": {},
   "outputs": [],
   "source": [
    "faultyOrderPrice = list(orders.index[(orders.order_total == orders.order_total_correctOrderPrice)&\\\n",
    "                                    (orders.order_price!=orders.order_price_originalCart)])\n",
    "semantic+=faultyOrderPrice"
   ]
  },
  {
   "cell_type": "markdown",
   "metadata": {},
   "source": [
    "#### 3.3 Correcting Error in Shopping Cart\n",
    "\n",
    "Since we cannot predict what the consumers might have purchased originally, we can only test each product combination one by one and look for the combination that equals to the value in respective ``order_price`` column. After identifying indexes of rows whose ``shopping_cart`` has faulty values, I followed the following step to correct the error: \n",
    "\n",
    "1. Create a dictionary ``priceProduct``, whose key-value pair is the price-product pair. Since each item's price differ, no items will be overwritten. \n",
    "2. using ``itertools.permutation()`` function to create all possible item combinations with the keys in ``priceProduct`` dictionary. Since the item quantities in the shopping cart are all correct, all the item combinations created by ``itertools.permutation()`` are summed up after infusing the order quantities. \n",
    "3. Loop through all the combinations from step 2 and 3, and look for the combinations of items whose sum equals to the matching ``order_price`` .\n",
    "4. When the matching combinations of the items are found, create a key-value pair - key = row index number, value = matching item combination, and append it to ``index_correctCart`` dictionary. \n",
    "\n",
    "After step 4, I intended to directly substitute the original shopping cart item to the correct combination. However, the ``df.loc[]`` function does not support direct substitution of ``list`` data type to another ``list``. Therefore, I needed to change the combination list into a ``str`` variable and then replace the original shopping cart list. To do so, converted the matching item combination ``list`` to ``str`` when appending the key-value pair into the dictionary. \n",
    "\n",
    "5. Substitute the faulty shopping cart value to the matching combination with `for`-loop via ``df.loc[]`` function. \n",
    "6. Convert the new ``shopping_cart`` values to a list of tuples with ``.apply()`` function."
   ]
  },
  {
   "cell_type": "code",
   "execution_count": 58,
   "metadata": {},
   "outputs": [],
   "source": [
    "priceProduct = {productPrice[k]:k for k in productPrice}\n",
    "# reverse the key-value pairs in productPrice "
   ]
  },
  {
   "cell_type": "code",
   "execution_count": 59,
   "metadata": {},
   "outputs": [],
   "source": [
    "index_correctCart = dict()\n",
    "# the dictionary records the correct combination of product ordered in the shopping cart \n",
    "\n",
    "for index in faultyCart:\n",
    "# the index of rows with faulty values in the shopping_cart column \n",
    "    \n",
    "    combin = list(permutations([key for key in priceProduct.keys()],len(orders.loc[index,'shopping_cart'])))\n",
    "    # permutation of all the available unique products with the length of the original shopping_cart values\n",
    "    \n",
    "    for tup in combin: \n",
    "    # loop through each combination of unique product \n",
    "    \n",
    "        summ =0\n",
    "        lst=list()\n",
    "        \n",
    "        for i in range(len(tup)): \n",
    "        # loop through each item in the tuple of each combination \n",
    "        \n",
    "            summ+=tup[i]*int(orders.loc[index,'shopping_cart'][i][1])\n",
    "            # the quantity ordered is assume to be correct\n",
    "            # calculate the total price of all the possible combination created by the permutation function by\n",
    "            # multiplying the quantity ordered \n",
    "            \n",
    "            lst.append((priceProduct[tup[i]],int(orders.loc[index,'shopping_cart'][i][1])))\n",
    "            # keep all the possible combination of product-quantity tuple in lst \n",
    "            \n",
    "            if summ == orders.loc[index,'order_price']:\n",
    "            # if the order price of new combination equals to the order_price of the matching row \n",
    "                 index_correctCart[index]= str(lst)\n",
    "                # append the new shopping cart list into index_correctCart\n",
    "                # row index is the key, the shopping cart list is the value \n",
    "                # Since we cannot substitude the list type object in a cell directly, I converted the list to \n",
    "                # a string before appending it into the dictionary "
   ]
  },
  {
   "cell_type": "code",
   "execution_count": 60,
   "metadata": {},
   "outputs": [],
   "source": [
    "for index in index_correctCart.keys():\n",
    "# loop through the row index in the index_correctCart dictionary \n",
    "\n",
    "    orders.loc[index,'shopping_cart'] = index_correctCart[index]\n",
    "    # replace the original value in the shopping_cart column to the new value we retrieved above "
   ]
  },
  {
   "cell_type": "code",
   "execution_count": 61,
   "metadata": {},
   "outputs": [],
   "source": [
    "orders.loc[faultyCart,'shopping_cart'] = orders.loc[faultyCart,'shopping_cart'].apply(lambda x: list(zip(re.findall(r\"\\(\\'(.+?)\\',\",x), [int(qty) for qty in re.findall(r\"\\, ([0-9]{1})\\)\",x)])))\n",
    "# change the string shopping_cart value to the list again using the same regex and .apply() function \n"
   ]
  },
  {
   "cell_type": "markdown",
   "metadata": {},
   "source": [
    "To double check if the new ``shopping_cart`` in these rows are now correct, ``order_price_originalCart`` values of these rows are newly calculated. "
   ]
  },
  {
   "cell_type": "code",
   "execution_count": 62,
   "metadata": {},
   "outputs": [],
   "source": [
    "orders.loc[faultyCart,'order_price_originalCart']=orders.loc[faultyCart,'shopping_cart'].apply(lambda x: \\\n",
    "                                                                 sum({productPrice[tup[0]]*int(tup[1]) for tup in x}))"
   ]
  },
  {
   "cell_type": "code",
   "execution_count": 63,
   "metadata": {},
   "outputs": [
    {
     "data": {
      "text/plain": [
       "{True}"
      ]
     },
     "execution_count": 63,
     "metadata": {},
     "output_type": "execute_result"
    }
   ],
   "source": [
    "set(orders.loc[faultyCart,'order_price_originalCart'] == orders.loc[faultyCart,'order_price'])\n",
    "# the code in set() function returns a series of Booleans that compares two values in each rows \n",
    "# set() returns the unique values within a series \n",
    "# no False is returned in the set, and therefore, the newly created shopping cart is correct."
   ]
  },
  {
   "cell_type": "markdown",
   "metadata": {},
   "source": [
    "#### 3.4 Correcting Errors in order_price Column\n",
    "\n",
    "We already retrieved the index of rows whose ``order_price`` columns have faulty values. To correct it, we simply substitute the original value in ``order_price`` column to the respective values in ``original_price_originalCart`` column using ``.loc[]`` function."
   ]
  },
  {
   "cell_type": "code",
   "execution_count": 64,
   "metadata": {},
   "outputs": [],
   "source": [
    "orders.loc[faultyOrderPrice, 'order_price'] = orders.loc[faultyOrderPrice, 'order_price_originalCart']"
   ]
  },
  {
   "cell_type": "markdown",
   "metadata": {},
   "source": [
    "#### 3.5 Detecting Errors in order_total Column \n",
    "\n",
    "Since there is only one semantic error in one row, the rows whose ``order_total`` value differs from ``order_total_originalOrderPrice`` contains errors in the ``order_total`` column. To correct it, I retrieved the index of rows whose values in these two columns differ, and replace the original value to the ones in ``order_total_originalOrderPrice`` column. However, due to changes from **3.4** and **3.3**, we need to eliminate the index numbers of rows that used to contain the semantic errors in ``shopping_cart`` and ``order_price`` columns, in order to retrieve the indexes of rows containing semantic errors in ``order_total`` column."
   ]
  },
  {
   "cell_type": "code",
   "execution_count": 65,
   "metadata": {},
   "outputs": [],
   "source": [
    "faultyOrderTotal = set(orders.index[orders.order_total_originalOrderPrice!=orders.order_total])-set(faultyCart)-set(faultyOrderPrice)\n",
    "# retrieving indexes of rows with faulty values in order_total column\n",
    "# excluding the indexes in faultyCart and faultyOrderPrice set due to changes in the values beforehand \n",
    "\n",
    "semantic+=list(faultyOrderTotal)"
   ]
  },
  {
   "cell_type": "code",
   "execution_count": 66,
   "metadata": {},
   "outputs": [],
   "source": [
    "orders.loc[faultyOrderTotal, 'order_total'] = orders.loc[faultyOrderTotal, 'order_total_originalOrderPrice']"
   ]
  },
  {
   "cell_type": "code",
   "execution_count": 67,
   "metadata": {},
   "outputs": [],
   "source": [
    "orders.drop(['order_price_originalCart','order_total_originalOrderPrice', 'order_total_correctOrderPrice'],\\\n",
    "           axis = 1, inplace = True)\n",
    "# drop all the columns that was not in the original data set"
   ]
  },
  {
   "cell_type": "markdown",
   "metadata": {},
   "source": [
    "### 4. Matching Months and Seasons\n",
    "\n",
    "The values in the ``season`` column is created based on the Climate Glossary published by Australian government Bureau of Meteorology. To detect the semantic errors in the ``season`` column, we should look for the values in ``date`` column that does not match the seasons specified in the Climate Glossary. To facilitate the process, I created a new column ``date_month`` with ``.apply()`` function. This column contains only the month of the date values. To correct the semantic error in ``season`` column, used ``.loc[]`` function to change the faulty ``season`` values. \n",
    "\n",
    "I corrected the faulty values in ``season`` column before detecting errors in ``is_expedited_delivery`` column since the latter and ``season`` column are linearly dependent to ``delivery_charges`` column. "
   ]
  },
  {
   "cell_type": "code",
   "execution_count": 68,
   "metadata": {},
   "outputs": [],
   "source": [
    "orders['date_month']=orders['date'].apply(lambda x: int(x.split('-')[1]))\n",
    "# create 'date_month' column by extracting month from the order date \n",
    "# since all the date values are in 'YYYY-MM-DD' format, I splited the date value with .split('-') function, \n",
    "# and extracted the second element in the date value\n",
    "# to fasten the filtering process, I converted the month values to integers"
   ]
  },
  {
   "cell_type": "code",
   "execution_count": 69,
   "metadata": {},
   "outputs": [],
   "source": [
    "semantic+=list(orders.index[(orders.date_month.isin({9,10,11}))&(orders.season !='Spring')|\\\n",
    "                            (orders.date_month.isin({12,1,2}))&(orders.season !='Summer')|\\\n",
    "                            (orders.date_month.isin({3,4,5}))&(orders.season !='Autumn')|\\\n",
    "                            (orders.date_month.isin({6,7,8}))&(orders.season !='Winter')])\n",
    "# retrieve the row indexes where season value does not match the order month "
   ]
  },
  {
   "cell_type": "code",
   "execution_count": 70,
   "metadata": {},
   "outputs": [],
   "source": [
    "orders.loc[orders.index[(orders.date_month.isin({9,10,11}))&(orders.season !='Spring')],'season'] = 'Spring'\n",
    "# if the date_month value is in {9,10,11}, the season should be Spring. If not, change the 'season' value to Spring\n",
    "\n",
    "orders.loc[orders.index[(orders.date_month.isin({12,1,2}))&(orders.season !='Summer')],'season'] = 'Summer'\n",
    "# if the date_month value is in {12,1,2}, the season should be Summer. If not, change the 'season' value to Summer\n",
    "\n",
    "orders.loc[orders.index[(orders.date_month.isin({3,4,5}))&(orders.season !='Autumn')],'season'] = 'Autumn'\n",
    "# if the date_month value is in {3,4,5}, the season should be Autumn. If not, change the 'season' value to Autumn\n",
    "\n",
    "orders.loc[orders.index[(orders.date_month.isin({6,7,8}))&(orders.season !='Winter')],'season'] = 'Winter'\n",
    "# if the date_month value is in {6,7,8}, the season should be Winter. If not, change the 'season' value to Winter"
   ]
  },
  {
   "cell_type": "code",
   "execution_count": 71,
   "metadata": {},
   "outputs": [
    {
     "data": {
      "text/plain": [
       "True"
      ]
     },
     "execution_count": 71,
     "metadata": {},
     "output_type": "execute_result"
    }
   ],
   "source": [
    "len(set(orders.index[(orders.date_month.isin({9,10,11}))&(orders.season !='Spring')|\\\n",
    "                            (orders.date_month.isin({12,1,2}))&(orders.season !='Summer')|\\\n",
    "                            (orders.date_month.isin({3,4,5}))&(orders.season !='Autumn')|\\\n",
    "                            (orders.date_month.isin({6,7,8}))&(orders.season !='Winter')])) == 0\n",
    "# No more errors in the season column detected"
   ]
  },
  {
   "cell_type": "code",
   "execution_count": 72,
   "metadata": {},
   "outputs": [],
   "source": [
    "orders.drop('date_month', axis = 1, inplace = True)\n",
    "# drop the 'date_month' column after the correction"
   ]
  },
  {
   "cell_type": "markdown",
   "metadata": {},
   "source": [
    "## 5. Expected ``expedited_delivery``\n",
    "\n",
    "To detect semantic errors in ``expedited_delivery``, we should first look for the attributes that are related to this column. Based on the business rule of the client, the delivery charges are determined by the ``expedited_delivery``, ``distance_to_nearest_warehouse`` and ``is_happy_customer`` values and are linearly dependent to the forementioned columns. However, we are not given whether the  ``expedited_delivery`` is also linearly dependent to ``delivery_charges``, ``distance_to_nearest_warehouse``, and ``is_happy_customer``. Therefore, we should implement a model to check if the model can accurately predict the ``expedited_delivery`` values. To do so, I will first check if ``delivery_charges``, ``distance_to_nearest_warehouse``, and ``is_happy_customer`` are linearly dependent to ``expedited_delivery`` by checking the linearity and distribution of the residuals between observed and predicted values and the correlation between three variables to ``expedited delivery``. "
   ]
  },
  {
   "cell_type": "code",
   "execution_count": 73,
   "metadata": {},
   "outputs": [],
   "source": [
    "orders.is_happy_customer = orders.is_happy_customer.apply(lambda x: 1 if x == True else 0)\n",
    "orders.is_expedited_delivery = orders.is_expedited_delivery.apply(lambda x: 1 if x == True else 0)\n",
    "# is_happy_customer and is_expedited_delivery are booleans. \n",
    "# to obtain the linear regression model, we convert the booleans to matching integers \n",
    "# 1 if x == True else 0: if the value is True, change the cell value to 1. Otherwise, change the value to 0."
   ]
  },
  {
   "cell_type": "code",
   "execution_count": 74,
   "metadata": {},
   "outputs": [],
   "source": [
    "'''\n",
    "ResidualCalculator function takes in the unique name of the season, the data frame ,and the target variable as \n",
    "the input parameters. \n",
    "\n",
    "The function first retrieves the rows from the input data frame whose 'season' value matches the input parameter \n",
    "season, and stores it into a seperate data frame. \n",
    "With this new data frame, the function builds a linear regression model to predict the target variable. \n",
    "Based on this model, the function calculates the residual between the predicted value and the actual value. \n",
    "The residuals and predicted target value are stored in individual columns. \n",
    "\n",
    "At the end, the function returns the new data frame of each season.\n",
    "'''\n",
    "\n",
    "def ResidualCalculator(seasonName,df, dependentVar):\n",
    "    \n",
    "    linearlyRelated = {'is_happy_customer','distance_to_nearest_warehouse','delivery_charges','is_expedited_delivery'}\n",
    "    # the columns needed for the model\n",
    "    independentVar = [col for col in linearlyRelated if col != dependentVar]\n",
    "    # all the variables other than the target variables in linearlyRelated set\n",
    "    \n",
    "    individualSeason = df[df.season == seasonName]\n",
    "    # stores the rows with sepecific season name into a seperate data frame\n",
    "    lm_impute = LinearRegression()\n",
    "    # instantiate the linear regression model \n",
    "    lm_impute.fit(individualSeason[independentVar], \\\n",
    "              individualSeason[dependentVar])\n",
    "    # fit the linear regression model and calculates coefficients & intersects of the linear model\n",
    "    individualSeason['predicted_dependentVar'] = lm_impute.predict(individualSeason[independentVar])\n",
    "    # insert the calculated predicted target values to the data frame \n",
    "    \n",
    "    individualSeason['residual'] = individualSeason[dependentVar] - individualSeason['predicted_dependentVar']\n",
    "    # residual is the 'noise' - difference between the real value and the predicted value from the model \n",
    "    return individualSeason\n",
    "    # the function returns the data frame after obtaining predicted values and residuals from the multiple linear \n",
    "    # regression model"
   ]
  },
  {
   "cell_type": "code",
   "execution_count": 75,
   "metadata": {},
   "outputs": [
    {
     "name": "stderr",
     "output_type": "stream",
     "text": [
      "/Users/dahyekim/opt/anaconda3/lib/python3.7/site-packages/ipykernel_launcher.py:28: SettingWithCopyWarning: \n",
      "A value is trying to be set on a copy of a slice from a DataFrame.\n",
      "Try using .loc[row_indexer,col_indexer] = value instead\n",
      "\n",
      "See the caveats in the documentation: https://pandas.pydata.org/pandas-docs/stable/user_guide/indexing.html#returning-a-view-versus-a-copy\n",
      "/Users/dahyekim/opt/anaconda3/lib/python3.7/site-packages/ipykernel_launcher.py:31: SettingWithCopyWarning: \n",
      "A value is trying to be set on a copy of a slice from a DataFrame.\n",
      "Try using .loc[row_indexer,col_indexer] = value instead\n",
      "\n",
      "See the caveats in the documentation: https://pandas.pydata.org/pandas-docs/stable/user_guide/indexing.html#returning-a-view-versus-a-copy\n",
      "/Users/dahyekim/opt/anaconda3/lib/python3.7/site-packages/ipykernel_launcher.py:28: SettingWithCopyWarning: \n",
      "A value is trying to be set on a copy of a slice from a DataFrame.\n",
      "Try using .loc[row_indexer,col_indexer] = value instead\n",
      "\n",
      "See the caveats in the documentation: https://pandas.pydata.org/pandas-docs/stable/user_guide/indexing.html#returning-a-view-versus-a-copy\n",
      "/Users/dahyekim/opt/anaconda3/lib/python3.7/site-packages/ipykernel_launcher.py:31: SettingWithCopyWarning: \n",
      "A value is trying to be set on a copy of a slice from a DataFrame.\n",
      "Try using .loc[row_indexer,col_indexer] = value instead\n",
      "\n",
      "See the caveats in the documentation: https://pandas.pydata.org/pandas-docs/stable/user_guide/indexing.html#returning-a-view-versus-a-copy\n",
      "/Users/dahyekim/opt/anaconda3/lib/python3.7/site-packages/ipykernel_launcher.py:28: SettingWithCopyWarning: \n",
      "A value is trying to be set on a copy of a slice from a DataFrame.\n",
      "Try using .loc[row_indexer,col_indexer] = value instead\n",
      "\n",
      "See the caveats in the documentation: https://pandas.pydata.org/pandas-docs/stable/user_guide/indexing.html#returning-a-view-versus-a-copy\n",
      "/Users/dahyekim/opt/anaconda3/lib/python3.7/site-packages/ipykernel_launcher.py:31: SettingWithCopyWarning: \n",
      "A value is trying to be set on a copy of a slice from a DataFrame.\n",
      "Try using .loc[row_indexer,col_indexer] = value instead\n",
      "\n",
      "See the caveats in the documentation: https://pandas.pydata.org/pandas-docs/stable/user_guide/indexing.html#returning-a-view-versus-a-copy\n",
      "/Users/dahyekim/opt/anaconda3/lib/python3.7/site-packages/ipykernel_launcher.py:28: SettingWithCopyWarning: \n",
      "A value is trying to be set on a copy of a slice from a DataFrame.\n",
      "Try using .loc[row_indexer,col_indexer] = value instead\n",
      "\n",
      "See the caveats in the documentation: https://pandas.pydata.org/pandas-docs/stable/user_guide/indexing.html#returning-a-view-versus-a-copy\n",
      "/Users/dahyekim/opt/anaconda3/lib/python3.7/site-packages/ipykernel_launcher.py:31: SettingWithCopyWarning: \n",
      "A value is trying to be set on a copy of a slice from a DataFrame.\n",
      "Try using .loc[row_indexer,col_indexer] = value instead\n",
      "\n",
      "See the caveats in the documentation: https://pandas.pydata.org/pandas-docs/stable/user_guide/indexing.html#returning-a-view-versus-a-copy\n"
     ]
    }
   ],
   "source": [
    "correctData = orders[orders.index.isin(semantic)]\n",
    "# the rows free of semantic and syntactic errors\n",
    "correctDataWithResiduals = [ResidualCalculator(seasonName, correctData, 'is_expedited_delivery') \\\n",
    "     for seasonName in pd.unique(correctData.season)]\n",
    "# using multiple-regression model, calculate the predicted target value 'is_expedited_delivery' and the residual \n",
    "# between the real value and the predicted target value using ResidualCalculator\n",
    "\n",
    "correctDataWithResiduals = pd.concat(correctDataWithResiduals)\n",
    "# concatenate all the data frames in the list correctDataWithResiduals"
   ]
  },
  {
   "cell_type": "code",
   "execution_count": 76,
   "metadata": {},
   "outputs": [
    {
     "data": {
      "text/plain": [
       "[<matplotlib.lines.Line2D at 0x7faf0b950d50>]"
      ]
     },
     "execution_count": 76,
     "metadata": {},
     "output_type": "execute_result"
    },
    {
     "data": {
      "image/png": "[encoded data removed]",
      "text/plain": [
       "<Figure size 432x288 with 1 Axes>"
      ]
     },
     "metadata": {
      "needs_background": "light"
     },
     "output_type": "display_data"
    }
   ],
   "source": [
    "plt.plot(correctDataWithResiduals.residual, 'o')\n",
    "# plot the scatter plot of the residual to detect curvilinearity or heteroskedasticity"
   ]
  },
  {
   "cell_type": "code",
   "execution_count": 77,
   "metadata": {},
   "outputs": [
    {
     "data": {
      "text/plain": [
       "(array([ 2.,  2., 15., 27., 44., 34., 18., 13.,  1.,  2.]),\n",
       " array([-0.16906406, -0.13402473, -0.0989854 , -0.06394607, -0.02890674,\n",
       "         0.00613259,  0.04117191,  0.07621124,  0.11125057,  0.1462899 ,\n",
       "         0.18132923]),\n",
       " <a list of 10 Patch objects>)"
      ]
     },
     "execution_count": 77,
     "metadata": {},
     "output_type": "execute_result"
    },
    {
     "data": {
      "image/png": "[encoded data removed]",
      "text/plain": [
       "<Figure size 432x288 with 1 Axes>"
      ]
     },
     "metadata": {
      "needs_background": "light"
     },
     "output_type": "display_data"
    }
   ],
   "source": [
    "plt.hist(correctDataWithResiduals.residual)"
   ]
  },
  {
   "cell_type": "code",
   "execution_count": 78,
   "metadata": {},
   "outputs": [
    {
     "data": {
      "text/html": [
       "<div>\n",
       "<style scoped>\n",
       "    .dataframe tbody tr th:only-of-type {\n",
       "        vertical-align: middle;\n",
       "    }\n",
       "\n",
       "    .dataframe tbody tr th {\n",
       "        vertical-align: top;\n",
       "    }\n",
       "\n",
       "    .dataframe thead th {\n",
       "        text-align: right;\n",
       "    }\n",
       "</style>\n",
       "<table border=\"1\" class=\"dataframe\">\n",
       "  <thead>\n",
       "    <tr style=\"text-align: right;\">\n",
       "      <th></th>\n",
       "      <th>is_happy_customer</th>\n",
       "      <th>distance_to_nearest_warehouse</th>\n",
       "      <th>delivery_charges</th>\n",
       "      <th>is_expedited_delivery</th>\n",
       "    </tr>\n",
       "  </thead>\n",
       "  <tbody>\n",
       "    <tr>\n",
       "      <th>is_happy_customer</th>\n",
       "      <td>1.000000</td>\n",
       "      <td>-0.159494</td>\n",
       "      <td>0.326515</td>\n",
       "      <td>-0.098613</td>\n",
       "    </tr>\n",
       "    <tr>\n",
       "      <th>distance_to_nearest_warehouse</th>\n",
       "      <td>-0.159494</td>\n",
       "      <td>1.000000</td>\n",
       "      <td>0.294231</td>\n",
       "      <td>0.017211</td>\n",
       "    </tr>\n",
       "    <tr>\n",
       "      <th>delivery_charges</th>\n",
       "      <td>0.326515</td>\n",
       "      <td>0.294231</td>\n",
       "      <td>1.000000</td>\n",
       "      <td>0.559437</td>\n",
       "    </tr>\n",
       "    <tr>\n",
       "      <th>is_expedited_delivery</th>\n",
       "      <td>-0.098613</td>\n",
       "      <td>0.017211</td>\n",
       "      <td>0.559437</td>\n",
       "      <td>1.000000</td>\n",
       "    </tr>\n",
       "  </tbody>\n",
       "</table>\n",
       "</div>"
      ],
      "text/plain": [
       "                               is_happy_customer  \\\n",
       "is_happy_customer                       1.000000   \n",
       "distance_to_nearest_warehouse          -0.159494   \n",
       "delivery_charges                        0.326515   \n",
       "is_expedited_delivery                  -0.098613   \n",
       "\n",
       "                               distance_to_nearest_warehouse  \\\n",
       "is_happy_customer                                  -0.159494   \n",
       "distance_to_nearest_warehouse                       1.000000   \n",
       "delivery_charges                                    0.294231   \n",
       "is_expedited_delivery                               0.017211   \n",
       "\n",
       "                               delivery_charges  is_expedited_delivery  \n",
       "is_happy_customer                      0.326515              -0.098613  \n",
       "distance_to_nearest_warehouse          0.294231               0.017211  \n",
       "delivery_charges                       1.000000               0.559437  \n",
       "is_expedited_delivery                  0.559437               1.000000  "
      ]
     },
     "execution_count": 78,
     "metadata": {},
     "output_type": "execute_result"
    }
   ],
   "source": [
    "correctDataWithResiduals[['is_happy_customer','distance_to_nearest_warehouse','delivery_charges','is_expedited_delivery']].corr()"
   ]
  },
  {
   "cell_type": "markdown",
   "metadata": {},
   "source": [
    "The scatter plot of the residuals does not show any curvilinearity or heteroskedasticity, and the residuals are very close to normal distribution in the histogram. Additionally, the ``is_expedited_delivery`` and three other variables are all very weakly or moderately correlated to another (independence). Therefore, we can assume a linear dependency between ``is_expedited_delivery`` and other three variables. In fact, when implementing the same procedure after filling out the missing variables in ``missing_data.csv``, the normal distribution of the residuals and well as randomness of residuals becomes even clearer. In addition, the ``is_expedited_delivery`` value in the correctDataWithResiduals and the rounded predicted values generated by the ResidualCalculator are identical. The imputed ``missing_data.csv`` also proved that the predicted target values are identical to the actual values in the original data frame. Therefore, I checked the ``is_expedited_delivery`` value by implementing this model. "
   ]
  },
  {
   "cell_type": "code",
   "execution_count": 79,
   "metadata": {},
   "outputs": [
    {
     "data": {
      "text/plain": [
       "{True}"
      ]
     },
     "execution_count": 79,
     "metadata": {},
     "output_type": "execute_result"
    }
   ],
   "source": [
    "set(correctDataWithResiduals['is_expedited_delivery'] == round(correctDataWithResiduals['predicted_dependentVar']))\n",
    "# 'predicted_dependentVar' calculated by the multiple linear regression model is identical to the real values "
   ]
  },
  {
   "cell_type": "code",
   "execution_count": 80,
   "metadata": {},
   "outputs": [
    {
     "name": "stderr",
     "output_type": "stream",
     "text": [
      "/Users/dahyekim/opt/anaconda3/lib/python3.7/site-packages/ipykernel_launcher.py:28: SettingWithCopyWarning: \n",
      "A value is trying to be set on a copy of a slice from a DataFrame.\n",
      "Try using .loc[row_indexer,col_indexer] = value instead\n",
      "\n",
      "See the caveats in the documentation: https://pandas.pydata.org/pandas-docs/stable/user_guide/indexing.html#returning-a-view-versus-a-copy\n",
      "/Users/dahyekim/opt/anaconda3/lib/python3.7/site-packages/ipykernel_launcher.py:31: SettingWithCopyWarning: \n",
      "A value is trying to be set on a copy of a slice from a DataFrame.\n",
      "Try using .loc[row_indexer,col_indexer] = value instead\n",
      "\n",
      "See the caveats in the documentation: https://pandas.pydata.org/pandas-docs/stable/user_guide/indexing.html#returning-a-view-versus-a-copy\n",
      "/Users/dahyekim/opt/anaconda3/lib/python3.7/site-packages/ipykernel_launcher.py:28: SettingWithCopyWarning: \n",
      "A value is trying to be set on a copy of a slice from a DataFrame.\n",
      "Try using .loc[row_indexer,col_indexer] = value instead\n",
      "\n",
      "See the caveats in the documentation: https://pandas.pydata.org/pandas-docs/stable/user_guide/indexing.html#returning-a-view-versus-a-copy\n",
      "/Users/dahyekim/opt/anaconda3/lib/python3.7/site-packages/ipykernel_launcher.py:31: SettingWithCopyWarning: \n",
      "A value is trying to be set on a copy of a slice from a DataFrame.\n",
      "Try using .loc[row_indexer,col_indexer] = value instead\n",
      "\n",
      "See the caveats in the documentation: https://pandas.pydata.org/pandas-docs/stable/user_guide/indexing.html#returning-a-view-versus-a-copy\n",
      "/Users/dahyekim/opt/anaconda3/lib/python3.7/site-packages/ipykernel_launcher.py:28: SettingWithCopyWarning: \n",
      "A value is trying to be set on a copy of a slice from a DataFrame.\n",
      "Try using .loc[row_indexer,col_indexer] = value instead\n",
      "\n",
      "See the caveats in the documentation: https://pandas.pydata.org/pandas-docs/stable/user_guide/indexing.html#returning-a-view-versus-a-copy\n",
      "/Users/dahyekim/opt/anaconda3/lib/python3.7/site-packages/ipykernel_launcher.py:31: SettingWithCopyWarning: \n",
      "A value is trying to be set on a copy of a slice from a DataFrame.\n",
      "Try using .loc[row_indexer,col_indexer] = value instead\n",
      "\n",
      "See the caveats in the documentation: https://pandas.pydata.org/pandas-docs/stable/user_guide/indexing.html#returning-a-view-versus-a-copy\n",
      "/Users/dahyekim/opt/anaconda3/lib/python3.7/site-packages/ipykernel_launcher.py:28: SettingWithCopyWarning: \n",
      "A value is trying to be set on a copy of a slice from a DataFrame.\n",
      "Try using .loc[row_indexer,col_indexer] = value instead\n",
      "\n",
      "See the caveats in the documentation: https://pandas.pydata.org/pandas-docs/stable/user_guide/indexing.html#returning-a-view-versus-a-copy\n",
      "/Users/dahyekim/opt/anaconda3/lib/python3.7/site-packages/ipykernel_launcher.py:31: SettingWithCopyWarning: \n",
      "A value is trying to be set on a copy of a slice from a DataFrame.\n",
      "Try using .loc[row_indexer,col_indexer] = value instead\n",
      "\n",
      "See the caveats in the documentation: https://pandas.pydata.org/pandas-docs/stable/user_guide/indexing.html#returning-a-view-versus-a-copy\n"
     ]
    }
   ],
   "source": [
    "orders = pd.concat([ResidualCalculator(seasonName, orders, 'is_expedited_delivery') \\\n",
    "     for seasonName in pd.unique(orders.season)])\n",
    "\n",
    "# using multiple-regression model, calculate the predicted target value 'is_expedited_delivery' and the residual \n",
    "# between the real value and the predicted target value using ResidualCalculator\n",
    "# concatenate all the data frames in the list correctDataWithResiduals"
   ]
  },
  {
   "cell_type": "code",
   "execution_count": 81,
   "metadata": {},
   "outputs": [],
   "source": [
    "faultyExpeditedDeliveryIndex = list(orders.index[orders.is_expedited_delivery != round(orders['predicted_dependentVar'])])\n",
    "# retrieve the index of rows whose predicted is_expedited_delivery differs from the original value \n",
    "semantic += faultyExpeditedDeliveryIndex\n",
    "# add the row index above to semantic list "
   ]
  },
  {
   "cell_type": "code",
   "execution_count": 82,
   "metadata": {},
   "outputs": [],
   "source": [
    "orders.loc[faultyExpeditedDeliveryIndex,'is_expedited_delivery'] = \\\n",
    "1- orders.loc[faultyExpeditedDeliveryIndex,'is_expedited_delivery']\n",
    "# reverse the binary number in is_expedited_delivery column (1 to 0, 0 to 1) if recognised as faulty"
   ]
  },
  {
   "cell_type": "code",
   "execution_count": 83,
   "metadata": {},
   "outputs": [],
   "source": [
    "orders.is_happy_customer = orders.is_happy_customer.apply(lambda x: True if x == 1 else False)\n",
    "orders.is_expedited_delivery = orders.is_expedited_delivery.apply(lambda x: True if x == 1 else False)\n",
    "# change the binary numbers to True and False as it was in the original data frame\n",
    "\n",
    "orders.drop(['predicted_dependentVar','residual'], axis = 1, inplace = True)\n",
    "# drop the columns that are not in the original data frame "
   ]
  },
  {
   "cell_type": "code",
   "execution_count": 84,
   "metadata": {},
   "outputs": [
    {
     "name": "stdout",
     "output_type": "stream",
     "text": [
      "212 212\n"
     ]
    }
   ],
   "source": [
    "print(len(semantic),len(set(semantic)))\n",
    "# no rows have more than 2 semantic errors"
   ]
  },
  {
   "cell_type": "code",
   "execution_count": 85,
   "metadata": {},
   "outputs": [],
   "source": [
    "orders.sort_index(inplace = True)\n",
    "# sort the data based on the original index - maintaining the row order of the original data frame \n",
    "orders.to_csv('dirty_data_solution.csv', index = False)"
   ]
  },
  {
   "cell_type": "markdown",
   "metadata": {},
   "source": [
    "# Part 2. Imputing Missing Values\n",
    "\n",
    "Part 2 detects columns with missing values and imputes the missing ones based on the client's business rules. Based on the values returned from ``isnull().sum()`` function, following columns has null values: \n",
    "\n",
    "* ``nearest_warehouse``\n",
    "\n",
    "* ``order_price``\n",
    "\n",
    "* ``delivery_charges``\n",
    "\n",
    "* ``order_total``\n",
    "\n",
    "* ``distance_to_nearest_warehouse``\n",
    "\n",
    "* ``is_happy_customer``\n",
    "\n",
    "The imputation was implemented under the assumption that all the values in the csv file is correct."
   ]
  },
  {
   "cell_type": "code",
   "execution_count": 86,
   "metadata": {},
   "outputs": [],
   "source": [
    "missing = pd.read_csv('missing_data.csv')\n",
    "# reading in the csv file with missing values "
   ]
  },
  {
   "cell_type": "code",
   "execution_count": 87,
   "metadata": {},
   "outputs": [
    {
     "data": {
      "text/plain": [
       "order_id                          0\n",
       "customer_id                       0\n",
       "date                              0\n",
       "nearest_warehouse                55\n",
       "shopping_cart                     0\n",
       "order_price                      15\n",
       "delivery_charges                 40\n",
       "customer_lat                      0\n",
       "customer_long                     0\n",
       "coupon_discount                   0\n",
       "order_total                      15\n",
       "season                            0\n",
       "is_expedited_delivery             0\n",
       "distance_to_nearest_warehouse    31\n",
       "latest_customer_review            0\n",
       "is_happy_customer                40\n",
       "dtype: int64"
      ]
     },
     "execution_count": 87,
     "metadata": {},
     "output_type": "execute_result"
    }
   ],
   "source": [
    "missing.isnull().sum()\n",
    "# checking the columns with NaNs "
   ]
  },
  {
   "cell_type": "markdown",
   "metadata": {},
   "source": [
    "## 1. Filling Missing Values in ``is_happy_customer`` column\n",
    "\n",
    "\n",
    "The order of imputation was decided based on the independence of the columns with missing values. As an instance, the column ``is_happy_customer`` is indepedent of any columns listed above, but only related to the values in the ``latest_customer_review`` column. Therefore, I started the imputation process with this column first following the process below: \n",
    "\n",
    "1. Retrieve the index number of the rows with missing value in ``is_happy_customer`` column \n",
    "2. Loop through each index number and calculate the polarity score based on the matching ``latest_customer_review`` \n",
    "3. Based on the business rule, if the customer review is ``'None'``, the customer is regarded as a happy customer from the last order. \n",
    "4. For all other reviews, if the polarity score is less than 0.05, the customer is regarded as an unhappy customer. Therefore, the value to ``is_happy_customer`` column is ``False``. Otherwise the value is ``True``. "
   ]
  },
  {
   "cell_type": "code",
   "execution_count": 88,
   "metadata": {},
   "outputs": [
    {
     "data": {
      "text/html": [
       "<div>\n",
       "<style scoped>\n",
       "    .dataframe tbody tr th:only-of-type {\n",
       "        vertical-align: middle;\n",
       "    }\n",
       "\n",
       "    .dataframe tbody tr th {\n",
       "        vertical-align: top;\n",
       "    }\n",
       "\n",
       "    .dataframe thead th {\n",
       "        text-align: right;\n",
       "    }\n",
       "</style>\n",
       "<table border=\"1\" class=\"dataframe\">\n",
       "  <thead>\n",
       "    <tr style=\"text-align: right;\">\n",
       "      <th></th>\n",
       "      <th>order_id</th>\n",
       "      <th>customer_id</th>\n",
       "      <th>date</th>\n",
       "      <th>nearest_warehouse</th>\n",
       "      <th>shopping_cart</th>\n",
       "      <th>order_price</th>\n",
       "      <th>delivery_charges</th>\n",
       "      <th>customer_lat</th>\n",
       "      <th>customer_long</th>\n",
       "      <th>coupon_discount</th>\n",
       "      <th>order_total</th>\n",
       "      <th>season</th>\n",
       "      <th>is_expedited_delivery</th>\n",
       "      <th>distance_to_nearest_warehouse</th>\n",
       "      <th>latest_customer_review</th>\n",
       "      <th>is_happy_customer</th>\n",
       "    </tr>\n",
       "  </thead>\n",
       "  <tbody>\n",
       "    <tr>\n",
       "      <th>0</th>\n",
       "      <td>ORD301034</td>\n",
       "      <td>ID0579980028</td>\n",
       "      <td>2019-04-27</td>\n",
       "      <td>Thompson</td>\n",
       "      <td>[('Candle Inferno', 2), ('Universe Note', 2), ...</td>\n",
       "      <td>12080.0</td>\n",
       "      <td>64.08</td>\n",
       "      <td>-37.807924</td>\n",
       "      <td>144.942578</td>\n",
       "      <td>10</td>\n",
       "      <td>10936.08</td>\n",
       "      <td>Autumn</td>\n",
       "      <td>False</td>\n",
       "      <td>0.6599</td>\n",
       "      <td>olivia universe s5 great phone, great condition</td>\n",
       "      <td>1.0</td>\n",
       "    </tr>\n",
       "    <tr>\n",
       "      <th>1</th>\n",
       "      <td>ORD426641</td>\n",
       "      <td>ID6167266647</td>\n",
       "      <td>2019-02-10</td>\n",
       "      <td>Nickolson</td>\n",
       "      <td>[('Olivia x460', 1), ('Candle Inferno', 1), ('...</td>\n",
       "      <td>15505.0</td>\n",
       "      <td>76.44</td>\n",
       "      <td>-37.809552</td>\n",
       "      <td>144.964562</td>\n",
       "      <td>5</td>\n",
       "      <td>14806.19</td>\n",
       "      <td>Summer</td>\n",
       "      <td>False</td>\n",
       "      <td>1.0981</td>\n",
       "      <td>official product got the phone and it is all g...</td>\n",
       "      <td>1.0</td>\n",
       "    </tr>\n",
       "    <tr>\n",
       "      <th>2</th>\n",
       "      <td>ORD178169</td>\n",
       "      <td>ID0845657621</td>\n",
       "      <td>2019-09-04</td>\n",
       "      <td>NaN</td>\n",
       "      <td>[('pearTV', 2), ('iStream', 2), ('Alcon 10', 1)]</td>\n",
       "      <td>21870.0</td>\n",
       "      <td>71.00</td>\n",
       "      <td>-37.817934</td>\n",
       "      <td>144.967651</td>\n",
       "      <td>0</td>\n",
       "      <td>21941.00</td>\n",
       "      <td>Spring</td>\n",
       "      <td>False</td>\n",
       "      <td>0.1826</td>\n",
       "      <td>the best budget version huaweii i’ve had the b...</td>\n",
       "      <td>1.0</td>\n",
       "    </tr>\n",
       "    <tr>\n",
       "      <th>3</th>\n",
       "      <td>ORD487277</td>\n",
       "      <td>ID2318307716</td>\n",
       "      <td>2019-08-13</td>\n",
       "      <td>Nickolson</td>\n",
       "      <td>[('Alcon 10', 1), ('Lucent 330S', 2)]</td>\n",
       "      <td>11410.0</td>\n",
       "      <td>76.59</td>\n",
       "      <td>-37.810830</td>\n",
       "      <td>144.975836</td>\n",
       "      <td>15</td>\n",
       "      <td>9775.09</td>\n",
       "      <td>Winter</td>\n",
       "      <td>True</td>\n",
       "      <td>1.0260</td>\n",
       "      <td>happy with the purchase, found it on sale coul...</td>\n",
       "      <td>1.0</td>\n",
       "    </tr>\n",
       "    <tr>\n",
       "      <th>4</th>\n",
       "      <td>ORD168321</td>\n",
       "      <td>ID0298045607</td>\n",
       "      <td>2019-02-26</td>\n",
       "      <td>Nickolson</td>\n",
       "      <td>[('Alcon 10', 1), ('Toshika 750', 2), ('Lucent...</td>\n",
       "      <td>25130.0</td>\n",
       "      <td>91.85</td>\n",
       "      <td>-37.824183</td>\n",
       "      <td>144.963221</td>\n",
       "      <td>0</td>\n",
       "      <td>25221.85</td>\n",
       "      <td>Summer</td>\n",
       "      <td>True</td>\n",
       "      <td>0.8347</td>\n",
       "      <td>five stars everything worked like it said.</td>\n",
       "      <td>1.0</td>\n",
       "    </tr>\n",
       "  </tbody>\n",
       "</table>\n",
       "</div>"
      ],
      "text/plain": [
       "    order_id   customer_id        date nearest_warehouse  \\\n",
       "0  ORD301034  ID0579980028  2019-04-27          Thompson   \n",
       "1  ORD426641  ID6167266647  2019-02-10         Nickolson   \n",
       "2  ORD178169  ID0845657621  2019-09-04               NaN   \n",
       "3  ORD487277  ID2318307716  2019-08-13         Nickolson   \n",
       "4  ORD168321  ID0298045607  2019-02-26         Nickolson   \n",
       "\n",
       "                                       shopping_cart  order_price  \\\n",
       "0  [('Candle Inferno', 2), ('Universe Note', 2), ...      12080.0   \n",
       "1  [('Olivia x460', 1), ('Candle Inferno', 1), ('...      15505.0   \n",
       "2   [('pearTV', 2), ('iStream', 2), ('Alcon 10', 1)]      21870.0   \n",
       "3              [('Alcon 10', 1), ('Lucent 330S', 2)]      11410.0   \n",
       "4  [('Alcon 10', 1), ('Toshika 750', 2), ('Lucent...      25130.0   \n",
       "\n",
       "   delivery_charges  customer_lat  customer_long  coupon_discount  \\\n",
       "0             64.08    -37.807924     144.942578               10   \n",
       "1             76.44    -37.809552     144.964562                5   \n",
       "2             71.00    -37.817934     144.967651                0   \n",
       "3             76.59    -37.810830     144.975836               15   \n",
       "4             91.85    -37.824183     144.963221                0   \n",
       "\n",
       "   order_total  season  is_expedited_delivery  distance_to_nearest_warehouse  \\\n",
       "0     10936.08  Autumn                  False                         0.6599   \n",
       "1     14806.19  Summer                  False                         1.0981   \n",
       "2     21941.00  Spring                  False                         0.1826   \n",
       "3      9775.09  Winter                   True                         1.0260   \n",
       "4     25221.85  Summer                   True                         0.8347   \n",
       "\n",
       "                              latest_customer_review  is_happy_customer  \n",
       "0    olivia universe s5 great phone, great condition                1.0  \n",
       "1  official product got the phone and it is all g...                1.0  \n",
       "2  the best budget version huaweii i’ve had the b...                1.0  \n",
       "3  happy with the purchase, found it on sale coul...                1.0  \n",
       "4         five stars everything worked like it said.                1.0  "
      ]
     },
     "execution_count": 88,
     "metadata": {},
     "output_type": "execute_result"
    }
   ],
   "source": [
    "missing.head()"
   ]
  },
  {
   "cell_type": "code",
   "execution_count": 89,
   "metadata": {},
   "outputs": [],
   "source": [
    "happy_missing_index = missing.index[missing.is_happy_customer.isnull()]\n",
    "# retrieve the index number of rows where is_happy_customer value is missing "
   ]
  },
  {
   "cell_type": "code",
   "execution_count": 90,
   "metadata": {},
   "outputs": [],
   "source": [
    "for index in happy_missing_index: \n",
    "# looping through each index number in happy_missing_index \n",
    "\n",
    "    polarityScore = sid.polarity_scores(missing.loc[index,'latest_customer_review'])['compound']\n",
    "    # calculate the polarity score based on the latest_customer_review \n",
    "    \n",
    "    if missing.loc[index, 'latest_customer_review'] == 'None': \n",
    "        missing.loc[index,'is_happy_customer'] = 1\n",
    "        # if the latest_customer_review is 'None', 'is_happy_customer' of the matching row is True\n",
    "        \n",
    "    elif polarityScore<0.05: \n",
    "        missing.loc[index,'is_happy_customer'] = 0\n",
    "        # 'is_happy_customer' value where the polarity score of latest_customer_review is less than 5 should be False\n",
    "    else: \n",
    "        missing.loc[index,'is_happy_customer'] = 1\n",
    "        # Otherwise, the missing value is True "
   ]
  },
  {
   "cell_type": "markdown",
   "metadata": {},
   "source": [
    "## 2. Filling Missing Values in ``order_price`` and ``order_total`` columns\n",
    "\n",
    "When correcting the dirty data, I managed to calculate the unit price of unique product from the client. The matching product name and the price is stored in a dictionary called ``productPrice``. To impute the missing value in ``order_price`` column, I used the same method that I used when detecting errors in ``order_price`` column in ``dirty_data.csv``. "
   ]
  },
  {
   "cell_type": "code",
   "execution_count": 91,
   "metadata": {},
   "outputs": [
    {
     "data": {
      "text/plain": [
       "True"
      ]
     },
     "execution_count": 91,
     "metadata": {},
     "output_type": "execute_result"
    }
   ],
   "source": [
    "set(missing.index[missing.order_price.isnull()]) == set(missing.index[missing.order_total.isnull()])\n",
    "# the rows whose order_price and order_total are missing are the same rows "
   ]
  },
  {
   "cell_type": "markdown",
   "metadata": {},
   "source": [
    "Since the rows with missing values in ``order_price`` column is also missing values in ``order_total`` column, I imputed both columns together. According to the business rule of the company, the values in ``total_price`` column is calculated as follow:\n",
    "\n",
    "$$\n",
    "\\text{total price} = \\text{order price} \\times \\frac{(100-\\text{discount rate})}{100} + \\text{delivery charge}\n",
    "$$\n",
    "\n",
    "Since ``order_total`` is dependent on ``order_price``, I first imputed the ``order_price`` column."
   ]
  },
  {
   "cell_type": "code",
   "execution_count": 92,
   "metadata": {},
   "outputs": [],
   "source": [
    "missing['shopping_cart'] = \\\n",
    "missing['shopping_cart'].apply(lambda x: list(zip(re.findall(r\"\\(\\'(.+?)\\',\",x), [int(qty) for qty in re.findall(r\"\\, ([0-9]{1})\\)\",x)])))\n",
    "# convert the string values in the shopping_cart column into a list of tuples"
   ]
  },
  {
   "cell_type": "code",
   "execution_count": 93,
   "metadata": {},
   "outputs": [],
   "source": [
    "price_missing = missing.index[missing.order_price.isnull()]\n",
    "# the index of rows whose order_price is missing \n",
    "# These are also the index of rows whose order_total is missing "
   ]
  },
  {
   "cell_type": "code",
   "execution_count": 94,
   "metadata": {},
   "outputs": [],
   "source": [
    "missing.loc[price_missing, 'order_price'] = missing.loc[price_missing,'shopping_cart'].apply(lambda x:\\\n",
    "                                                                                            sum({productPrice[tup[0]]*int(tup[1]) for tup in x}))\n",
    "# calculate the order_price of the missing values based on the individual product price in productPrice dictionary \n",
    "\n",
    "missing.loc[price_missing, 'order_total'] = missing.loc[price_missing, 'order_price']*(100-missing.loc[price_missing, 'coupon_discount'])*0.01+\\\n",
    "missing.loc[price_missing, 'delivery_charges']\n",
    "# fill in the order_total values in the same rows after calculating the missing order_price values "
   ]
  },
  {
   "cell_type": "markdown",
   "metadata": {},
   "source": [
    "## 3. Filling Missing ``delivery_charges``\n",
    "\n",
    "Based on the business rule, the ``delivery_charges`` column is the difference between the ``total_price`` and the ``order_price`` after the applied coupon discount: \n",
    "\n",
    "$$\n",
    "\\text{delivery charge} = \\text{total price}-\\text{order price} \\times \\frac{(100-\\text{discount rate})}{100}\n",
    "$$\n",
    "\n",
    "To validate this formula, I created a seperate data frame called ``delivery_complete`` by retrieving all the rows whose ``delivery_charges`` values are completed. Then I applied the formula above and calculated the delivery charges with the correct ``order_total`` and ``order_price`` columns and stored the values into a new column called ``delivery_inverse``. If the values in ``delivery_inverse`` column are identical to those in ``delivery_charges``, then we can directly apply the formula above to fill in the empty values in ``delivery_charges`` column."
   ]
  },
  {
   "cell_type": "code",
   "execution_count": 95,
   "metadata": {},
   "outputs": [
    {
     "name": "stderr",
     "output_type": "stream",
     "text": [
      "/Users/dahyekim/opt/anaconda3/lib/python3.7/site-packages/ipykernel_launcher.py:6: SettingWithCopyWarning: \n",
      "A value is trying to be set on a copy of a slice from a DataFrame.\n",
      "Try using .loc[row_indexer,col_indexer] = value instead\n",
      "\n",
      "See the caveats in the documentation: https://pandas.pydata.org/pandas-docs/stable/user_guide/indexing.html#returning-a-view-versus-a-copy\n",
      "  \n"
     ]
    }
   ],
   "source": [
    "delivery_complete = missing[~missing.delivery_charges.isnull()]\n",
    "# '~' means 'not' in pandas, similar to '!' in R\n",
    "# a seperate data frame whose 'delivery_charges' is not null \n",
    "\n",
    "delivery_complete['delivery_inverse'] = round(delivery_complete.order_total -\\\n",
    "delivery_complete.order_price*(100-delivery_complete.coupon_discount)*0.01,2)\n",
    "# apply the formula above to all the rows with no missing values "
   ]
  },
  {
   "cell_type": "code",
   "execution_count": 96,
   "metadata": {},
   "outputs": [
    {
     "data": {
      "text/plain": [
       "{True}"
      ]
     },
     "execution_count": 96,
     "metadata": {},
     "output_type": "execute_result"
    }
   ],
   "source": [
    "set(delivery_complete['delivery_charges']==delivery_complete['delivery_inverse'])\n",
    "# two columns are identical and thus we can apply the formula to the empty rows in ``delivery_charges`` column."
   ]
  },
  {
   "cell_type": "code",
   "execution_count": 97,
   "metadata": {},
   "outputs": [],
   "source": [
    "delivery_missing_index = missing.index[missing.delivery_charges.isnull()]\n",
    "# retrieve the index of rows whose delivery_charges is missing \n",
    "\n",
    "missing.loc[delivery_missing_index, 'delivery_charges'] = \\\n",
    "round(missing.loc[delivery_missing_index, 'order_total'] -\\\n",
    "missing.loc[delivery_missing_index, 'order_price']*\\\n",
    "      (100-missing.loc[delivery_missing_index, 'coupon_discount'])*0.01,2)\n",
    "# apply the formula above with two-decimal places "
   ]
  },
  {
   "cell_type": "markdown",
   "metadata": {},
   "source": [
    "## 4. Filling Missing ``distance_to_nearest_warehouse`` & ``nearest_warehouse``\n",
    "\n",
    "After checking the index of rows whose ``distance_to_nearest_warehouse`` and ``nearest_warehouse`` are missing, I realised that all the rows with missing ``nearest_warehouse`` values are, in fact, also missing ``distance_to_nearest_warehouse`` values. To impute ``nearest_warehouse``, I need to obtain the missing ``distance_to_nearest_warehouse`` first, and therefore, I resolve the missing values of these two columns together by using the following steps: \n",
    "\n",
    "1. Create a seperate data frame ``distance`` which contains the ``customer_lat`` and ``customer_long`` of those rows whose ``distance_to_nearest_warehouse`` and ``nearest_warehouse`` values are missing\n",
    "2. In the new data frame, create new columns named after each warehouse, whose values are the distance between the customer and the matching warehouse. \n",
    "3. Calculate the distance between each warehouse and the customer location using ``haversine()`` function \n",
    "4. Create a new column ``recalc_nearest_warehouse`` by selecting the warehouse with the shortest distance to the customer in each row \n",
    "5. Create a new column ``recalc_distance_to_nearest_warehouse`` by inserting the distance between the customer and the nearest warehouse in ``recalc_nearest_warehouse`` column\n",
    "6. Impute the missing values in ``distance_to_nearest_warehouse`` and ``nearest_warehouse`` by using ``.loc[]`` function"
   ]
  },
  {
   "cell_type": "code",
   "execution_count": 98,
   "metadata": {},
   "outputs": [
    {
     "data": {
      "text/plain": [
       "{True}"
      ]
     },
     "execution_count": 98,
     "metadata": {},
     "output_type": "execute_result"
    }
   ],
   "source": [
    "set(missing.index[missing.distance_to_nearest_warehouse.isnull()].isin(missing.index[missing.nearest_warehouse.isnull()]))\n",
    "# the rows whose distance_to_nearest_warehouse are missing are also missing data in nearest_warehouse column"
   ]
  },
  {
   "cell_type": "code",
   "execution_count": 98,
   "metadata": {},
   "outputs": [],
   "source": [
    "distance = missing[['customer_lat','customer_long']][missing.nearest_warehouse.isnull()|\\\n",
    "                                                               missing.distance_to_nearest_warehouse.isnull()]\n",
    "# distance is a new data frame containing the customer_lat and customer_long of those rows whose \n",
    "# nearest_warehouse and distance_to_nearest_warehouse are missing "
   ]
  },
  {
   "cell_type": "code",
   "execution_count": 99,
   "metadata": {},
   "outputs": [
    {
     "data": {
      "text/html": [
       "<div>\n",
       "<style scoped>\n",
       "    .dataframe tbody tr th:only-of-type {\n",
       "        vertical-align: middle;\n",
       "    }\n",
       "\n",
       "    .dataframe tbody tr th {\n",
       "        vertical-align: top;\n",
       "    }\n",
       "\n",
       "    .dataframe thead th {\n",
       "        text-align: right;\n",
       "    }\n",
       "</style>\n",
       "<table border=\"1\" class=\"dataframe\">\n",
       "  <thead>\n",
       "    <tr style=\"text-align: right;\">\n",
       "      <th></th>\n",
       "      <th>customer_lat</th>\n",
       "      <th>customer_long</th>\n",
       "    </tr>\n",
       "  </thead>\n",
       "  <tbody>\n",
       "    <tr>\n",
       "      <th>2</th>\n",
       "      <td>-37.817934</td>\n",
       "      <td>144.967651</td>\n",
       "    </tr>\n",
       "    <tr>\n",
       "      <th>8</th>\n",
       "      <td>-37.819790</td>\n",
       "      <td>144.942588</td>\n",
       "    </tr>\n",
       "    <tr>\n",
       "      <th>24</th>\n",
       "      <td>-37.814294</td>\n",
       "      <td>145.006235</td>\n",
       "    </tr>\n",
       "    <tr>\n",
       "      <th>29</th>\n",
       "      <td>-37.809549</td>\n",
       "      <td>144.963874</td>\n",
       "    </tr>\n",
       "    <tr>\n",
       "      <th>51</th>\n",
       "      <td>-37.811742</td>\n",
       "      <td>144.953404</td>\n",
       "    </tr>\n",
       "    <tr>\n",
       "      <th>53</th>\n",
       "      <td>-37.815102</td>\n",
       "      <td>144.945021</td>\n",
       "    </tr>\n",
       "    <tr>\n",
       "      <th>56</th>\n",
       "      <td>-37.805267</td>\n",
       "      <td>144.942483</td>\n",
       "    </tr>\n",
       "    <tr>\n",
       "      <th>64</th>\n",
       "      <td>-37.811156</td>\n",
       "      <td>144.964081</td>\n",
       "    </tr>\n",
       "    <tr>\n",
       "      <th>65</th>\n",
       "      <td>-37.812901</td>\n",
       "      <td>144.942889</td>\n",
       "    </tr>\n",
       "    <tr>\n",
       "      <th>68</th>\n",
       "      <td>-37.814306</td>\n",
       "      <td>144.963354</td>\n",
       "    </tr>\n",
       "    <tr>\n",
       "      <th>70</th>\n",
       "      <td>-37.823194</td>\n",
       "      <td>144.960845</td>\n",
       "    </tr>\n",
       "    <tr>\n",
       "      <th>82</th>\n",
       "      <td>-37.824210</td>\n",
       "      <td>144.936889</td>\n",
       "    </tr>\n",
       "    <tr>\n",
       "      <th>86</th>\n",
       "      <td>-37.799641</td>\n",
       "      <td>144.956744</td>\n",
       "    </tr>\n",
       "    <tr>\n",
       "      <th>104</th>\n",
       "      <td>-37.804077</td>\n",
       "      <td>144.959167</td>\n",
       "    </tr>\n",
       "    <tr>\n",
       "      <th>110</th>\n",
       "      <td>-37.817374</td>\n",
       "      <td>144.970386</td>\n",
       "    </tr>\n",
       "    <tr>\n",
       "      <th>111</th>\n",
       "      <td>-37.803638</td>\n",
       "      <td>144.952209</td>\n",
       "    </tr>\n",
       "    <tr>\n",
       "      <th>119</th>\n",
       "      <td>-37.815970</td>\n",
       "      <td>144.991580</td>\n",
       "    </tr>\n",
       "    <tr>\n",
       "      <th>125</th>\n",
       "      <td>-37.818746</td>\n",
       "      <td>144.953472</td>\n",
       "    </tr>\n",
       "    <tr>\n",
       "      <th>134</th>\n",
       "      <td>-37.816443</td>\n",
       "      <td>144.937365</td>\n",
       "    </tr>\n",
       "    <tr>\n",
       "      <th>141</th>\n",
       "      <td>-37.812666</td>\n",
       "      <td>144.973478</td>\n",
       "    </tr>\n",
       "    <tr>\n",
       "      <th>142</th>\n",
       "      <td>-37.805576</td>\n",
       "      <td>144.944003</td>\n",
       "    </tr>\n",
       "    <tr>\n",
       "      <th>163</th>\n",
       "      <td>-37.804173</td>\n",
       "      <td>144.950171</td>\n",
       "    </tr>\n",
       "    <tr>\n",
       "      <th>182</th>\n",
       "      <td>-37.821604</td>\n",
       "      <td>144.979217</td>\n",
       "    </tr>\n",
       "    <tr>\n",
       "      <th>198</th>\n",
       "      <td>-37.810342</td>\n",
       "      <td>144.955036</td>\n",
       "    </tr>\n",
       "    <tr>\n",
       "      <th>216</th>\n",
       "      <td>-37.799197</td>\n",
       "      <td>145.005085</td>\n",
       "    </tr>\n",
       "    <tr>\n",
       "      <th>234</th>\n",
       "      <td>-37.820198</td>\n",
       "      <td>144.957654</td>\n",
       "    </tr>\n",
       "    <tr>\n",
       "      <th>239</th>\n",
       "      <td>-37.802333</td>\n",
       "      <td>144.952817</td>\n",
       "    </tr>\n",
       "    <tr>\n",
       "      <th>249</th>\n",
       "      <td>-37.809187</td>\n",
       "      <td>144.945239</td>\n",
       "    </tr>\n",
       "    <tr>\n",
       "      <th>258</th>\n",
       "      <td>-37.817171</td>\n",
       "      <td>144.934323</td>\n",
       "    </tr>\n",
       "    <tr>\n",
       "      <th>278</th>\n",
       "      <td>-37.801808</td>\n",
       "      <td>144.956876</td>\n",
       "    </tr>\n",
       "    <tr>\n",
       "      <th>290</th>\n",
       "      <td>-37.815296</td>\n",
       "      <td>144.941212</td>\n",
       "    </tr>\n",
       "    <tr>\n",
       "      <th>291</th>\n",
       "      <td>-37.816211</td>\n",
       "      <td>144.966471</td>\n",
       "    </tr>\n",
       "    <tr>\n",
       "      <th>293</th>\n",
       "      <td>-37.817079</td>\n",
       "      <td>145.009257</td>\n",
       "    </tr>\n",
       "    <tr>\n",
       "      <th>298</th>\n",
       "      <td>-37.806002</td>\n",
       "      <td>144.955981</td>\n",
       "    </tr>\n",
       "    <tr>\n",
       "      <th>314</th>\n",
       "      <td>-37.818618</td>\n",
       "      <td>144.967008</td>\n",
       "    </tr>\n",
       "    <tr>\n",
       "      <th>322</th>\n",
       "      <td>-37.811286</td>\n",
       "      <td>144.961647</td>\n",
       "    </tr>\n",
       "    <tr>\n",
       "      <th>339</th>\n",
       "      <td>-37.823775</td>\n",
       "      <td>144.990649</td>\n",
       "    </tr>\n",
       "    <tr>\n",
       "      <th>347</th>\n",
       "      <td>-37.816200</td>\n",
       "      <td>145.001961</td>\n",
       "    </tr>\n",
       "    <tr>\n",
       "      <th>351</th>\n",
       "      <td>-37.798922</td>\n",
       "      <td>144.977281</td>\n",
       "    </tr>\n",
       "    <tr>\n",
       "      <th>360</th>\n",
       "      <td>-37.813408</td>\n",
       "      <td>144.969794</td>\n",
       "    </tr>\n",
       "    <tr>\n",
       "      <th>362</th>\n",
       "      <td>-37.813178</td>\n",
       "      <td>144.938948</td>\n",
       "    </tr>\n",
       "    <tr>\n",
       "      <th>370</th>\n",
       "      <td>-37.821319</td>\n",
       "      <td>144.990853</td>\n",
       "    </tr>\n",
       "    <tr>\n",
       "      <th>372</th>\n",
       "      <td>-37.820974</td>\n",
       "      <td>144.955074</td>\n",
       "    </tr>\n",
       "    <tr>\n",
       "      <th>386</th>\n",
       "      <td>-37.813369</td>\n",
       "      <td>144.965041</td>\n",
       "    </tr>\n",
       "    <tr>\n",
       "      <th>395</th>\n",
       "      <td>-37.819258</td>\n",
       "      <td>144.952801</td>\n",
       "    </tr>\n",
       "    <tr>\n",
       "      <th>396</th>\n",
       "      <td>-37.824607</td>\n",
       "      <td>144.988717</td>\n",
       "    </tr>\n",
       "    <tr>\n",
       "      <th>412</th>\n",
       "      <td>-37.819736</td>\n",
       "      <td>144.979192</td>\n",
       "    </tr>\n",
       "    <tr>\n",
       "      <th>427</th>\n",
       "      <td>-37.811632</td>\n",
       "      <td>144.971579</td>\n",
       "    </tr>\n",
       "    <tr>\n",
       "      <th>435</th>\n",
       "      <td>-37.812667</td>\n",
       "      <td>144.947370</td>\n",
       "    </tr>\n",
       "    <tr>\n",
       "      <th>451</th>\n",
       "      <td>-37.805542</td>\n",
       "      <td>144.944945</td>\n",
       "    </tr>\n",
       "    <tr>\n",
       "      <th>452</th>\n",
       "      <td>-37.814995</td>\n",
       "      <td>144.927601</td>\n",
       "    </tr>\n",
       "    <tr>\n",
       "      <th>456</th>\n",
       "      <td>-37.807766</td>\n",
       "      <td>144.961553</td>\n",
       "    </tr>\n",
       "    <tr>\n",
       "      <th>462</th>\n",
       "      <td>-37.820971</td>\n",
       "      <td>144.984966</td>\n",
       "    </tr>\n",
       "    <tr>\n",
       "      <th>488</th>\n",
       "      <td>-37.815720</td>\n",
       "      <td>144.937145</td>\n",
       "    </tr>\n",
       "    <tr>\n",
       "      <th>496</th>\n",
       "      <td>-37.819926</td>\n",
       "      <td>144.992157</td>\n",
       "    </tr>\n",
       "  </tbody>\n",
       "</table>\n",
       "</div>"
      ],
      "text/plain": [
       "     customer_lat  customer_long\n",
       "2      -37.817934     144.967651\n",
       "8      -37.819790     144.942588\n",
       "24     -37.814294     145.006235\n",
       "29     -37.809549     144.963874\n",
       "51     -37.811742     144.953404\n",
       "53     -37.815102     144.945021\n",
       "56     -37.805267     144.942483\n",
       "64     -37.811156     144.964081\n",
       "65     -37.812901     144.942889\n",
       "68     -37.814306     144.963354\n",
       "70     -37.823194     144.960845\n",
       "82     -37.824210     144.936889\n",
       "86     -37.799641     144.956744\n",
       "104    -37.804077     144.959167\n",
       "110    -37.817374     144.970386\n",
       "111    -37.803638     144.952209\n",
       "119    -37.815970     144.991580\n",
       "125    -37.818746     144.953472\n",
       "134    -37.816443     144.937365\n",
       "141    -37.812666     144.973478\n",
       "142    -37.805576     144.944003\n",
       "163    -37.804173     144.950171\n",
       "182    -37.821604     144.979217\n",
       "198    -37.810342     144.955036\n",
       "216    -37.799197     145.005085\n",
       "234    -37.820198     144.957654\n",
       "239    -37.802333     144.952817\n",
       "249    -37.809187     144.945239\n",
       "258    -37.817171     144.934323\n",
       "278    -37.801808     144.956876\n",
       "290    -37.815296     144.941212\n",
       "291    -37.816211     144.966471\n",
       "293    -37.817079     145.009257\n",
       "298    -37.806002     144.955981\n",
       "314    -37.818618     144.967008\n",
       "322    -37.811286     144.961647\n",
       "339    -37.823775     144.990649\n",
       "347    -37.816200     145.001961\n",
       "351    -37.798922     144.977281\n",
       "360    -37.813408     144.969794\n",
       "362    -37.813178     144.938948\n",
       "370    -37.821319     144.990853\n",
       "372    -37.820974     144.955074\n",
       "386    -37.813369     144.965041\n",
       "395    -37.819258     144.952801\n",
       "396    -37.824607     144.988717\n",
       "412    -37.819736     144.979192\n",
       "427    -37.811632     144.971579\n",
       "435    -37.812667     144.947370\n",
       "451    -37.805542     144.944945\n",
       "452    -37.814995     144.927601\n",
       "456    -37.807766     144.961553\n",
       "462    -37.820971     144.984966\n",
       "488    -37.815720     144.937145\n",
       "496    -37.819926     144.992157"
      ]
     },
     "execution_count": 99,
     "metadata": {},
     "output_type": "execute_result"
    }
   ],
   "source": [
    "distance"
   ]
  },
  {
   "cell_type": "code",
   "execution_count": 100,
   "metadata": {},
   "outputs": [],
   "source": [
    "for warehouseName in warehouseLocation.keys(): \n",
    "    distance[warehouseName] = np.nan\n",
    "    # create column named after each warehouse\n",
    "    for i in distance.index: \n",
    "        customer_location = (distance.loc[i,'customer_lat'],distance.loc[i,'customer_long'])\n",
    "        # create (latitude, longitude) tuple of each customer location \n",
    "        distance.loc[i, warehouseName] = round(haversine(customer_location, warehouseLocation[warehouseName]),4)\n",
    "        # calculate haversine distance between each warehouse and the customer location, rounded by 4 decimal places\n"
   ]
  },
  {
   "cell_type": "code",
   "execution_count": 101,
   "metadata": {},
   "outputs": [],
   "source": [
    "distance['recalc_nearest_warehouse'] = distance[set(warehouseLocation.keys())].idxmin(axis = 1)\n",
    "# 'recalc_nearest_warehouse' is the name of the warehouse whose distance is the shortest from the customer\n",
    "distance['recalc_distance_to_nearest_warehouse'] = \\\n",
    "distance[set(warehouseLocation.keys())].min(axis = 1)\n",
    "# 'recalc_distance_to_nearest_warehouse' is the distance between the nearest_warehouse and the customer "
   ]
  },
  {
   "cell_type": "code",
   "execution_count": 102,
   "metadata": {},
   "outputs": [],
   "source": [
    "missing.loc[set(missing.index[missing.nearest_warehouse.isnull()]),'nearest_warehouse'] = \\\n",
    "distance.loc[set(missing.index[missing.nearest_warehouse.isnull()]),'recalc_nearest_warehouse']\n",
    "# imputing the 'nearest_warehouse' missing values calculated in the distance dataframe \n",
    "\n",
    "missing.loc[set(missing.index[missing.distance_to_nearest_warehouse.isnull()]),'distance_to_nearest_warehouse'] = \\\n",
    "distance.loc[set(missing.index[missing.distance_to_nearest_warehouse.isnull()]),'recalc_distance_to_nearest_warehouse']\n",
    "# imputing the 'distance_to_nearest_warehouse' missing values calculated in the distance dataframe "
   ]
  },
  {
   "cell_type": "code",
   "execution_count": 103,
   "metadata": {},
   "outputs": [
    {
     "data": {
      "text/plain": [
       "order_id                         0\n",
       "customer_id                      0\n",
       "date                             0\n",
       "nearest_warehouse                0\n",
       "shopping_cart                    0\n",
       "order_price                      0\n",
       "delivery_charges                 0\n",
       "customer_lat                     0\n",
       "customer_long                    0\n",
       "coupon_discount                  0\n",
       "order_total                      0\n",
       "season                           0\n",
       "is_expedited_delivery            0\n",
       "distance_to_nearest_warehouse    0\n",
       "latest_customer_review           0\n",
       "is_happy_customer                0\n",
       "dtype: int64"
      ]
     },
     "execution_count": 103,
     "metadata": {},
     "output_type": "execute_result"
    }
   ],
   "source": [
    "missing.isnull().sum()\n",
    "# no more missing values detected "
   ]
  },
  {
   "cell_type": "code",
   "execution_count": 104,
   "metadata": {},
   "outputs": [],
   "source": [
    "missing.sort_index(inplace = True)\n",
    "missing.to_csv('missing_data_solution.csv', index = False)\n",
    "# exported the data frame after imputing all the missing values"
   ]
  },
  {
   "cell_type": "markdown",
   "metadata": {},
   "source": [
    "# Part 3. Removing Outliers\n",
    "\n",
    "Before removing the outliers, we need to identify whether the ``delivery_charges`` attribute is independent from other attributes. If so, we can define the outliers in this attribute as univariate outliers and remove them straight away. Otherwise, we should build a model using other related attributes according to the business rule, and remove the multivariate outliers based on the distribution of the residuals. Residuals refers to the 'noise' between the values derived by the model we built and the actual values. The distribution of the residuals conveys the distribution of the attribute that we are working with in accordance to its related attributes - if the residual is exceptionally higher or lower than the norms, the data point is significantly deviating from the model and thus the relationship between the attributes. Therefore, the univariate outliers of the residual values direct us to the multivariate outliers that we are looking for. \n",
    "\n",
    "According to the business rule of the client, ``delivery_charges`` attribute is calculated using a linear model. The model linearly depends on ``distance_to_nearest_warehouse``, ``is_happy_customer``, and ``is_expedited_delivery`` attributes, and the model differs based on each season. Since we are given that the ``delivery_charges`` is linearly dependent on three other attributes, we should build multi-linear regression model of ``delivery_charges``. Since the model differs in each season, we should build four different multi-linear regression model.\n",
    "\n",
    "Based on the linear regression model, we calculate the 'predicted delivery charges' and obtain the residual of each data point by subtracting it to original ``delivery_charges``. After retrieving the residuals, we observe the distribution of residuals and obtain the outliers of the residual distributions. These outliers are the multivariate outliers of ``delivery_charges`` that we are looking for. "
   ]
  },
  {
   "cell_type": "code",
   "execution_count": 105,
   "metadata": {},
   "outputs": [],
   "source": [
    "outlier = pd.read_csv('outlier_data.csv')"
   ]
  },
  {
   "cell_type": "code",
   "execution_count": 106,
   "metadata": {},
   "outputs": [],
   "source": [
    "outlier.is_happy_customer = outlier.is_happy_customer.apply(lambda x: 1 if x == True else 0)\n",
    "outlier.is_expedited_delivery = outlier.is_expedited_delivery.apply(lambda x: 1 if x == True else 0)\n",
    "# is_happy_customer and is_expedited_delivery are booleans. \n",
    "# to obtain the linear regression model, we convert the booleans to matching integers \n",
    "# 1 if x == True else 0: if the value is True, change the cell value to 1. Otherwise, change the value to 0. "
   ]
  },
  {
   "cell_type": "code",
   "execution_count": 107,
   "metadata": {},
   "outputs": [
    {
     "data": {
      "image/png": "[encoded data removed]",
      "text/plain": [
       "<Figure size 432x288 with 1 Axes>"
      ]
     },
     "metadata": {
      "needs_background": "light"
     },
     "output_type": "display_data"
    }
   ],
   "source": [
    "deliveryCharges_bp = outlier.boxplot(column = 'delivery_charges', by = 'season')\n",
    "# Outliers above and below the upper and lower whisker are observed after grouping by season"
   ]
  },
  {
   "cell_type": "code",
   "execution_count": 108,
   "metadata": {},
   "outputs": [
    {
     "name": "stderr",
     "output_type": "stream",
     "text": [
      "/Users/dahyekim/opt/anaconda3/lib/python3.7/site-packages/ipykernel_launcher.py:28: SettingWithCopyWarning: \n",
      "A value is trying to be set on a copy of a slice from a DataFrame.\n",
      "Try using .loc[row_indexer,col_indexer] = value instead\n",
      "\n",
      "See the caveats in the documentation: https://pandas.pydata.org/pandas-docs/stable/user_guide/indexing.html#returning-a-view-versus-a-copy\n",
      "/Users/dahyekim/opt/anaconda3/lib/python3.7/site-packages/ipykernel_launcher.py:31: SettingWithCopyWarning: \n",
      "A value is trying to be set on a copy of a slice from a DataFrame.\n",
      "Try using .loc[row_indexer,col_indexer] = value instead\n",
      "\n",
      "See the caveats in the documentation: https://pandas.pydata.org/pandas-docs/stable/user_guide/indexing.html#returning-a-view-versus-a-copy\n",
      "/Users/dahyekim/opt/anaconda3/lib/python3.7/site-packages/ipykernel_launcher.py:28: SettingWithCopyWarning: \n",
      "A value is trying to be set on a copy of a slice from a DataFrame.\n",
      "Try using .loc[row_indexer,col_indexer] = value instead\n",
      "\n",
      "See the caveats in the documentation: https://pandas.pydata.org/pandas-docs/stable/user_guide/indexing.html#returning-a-view-versus-a-copy\n",
      "/Users/dahyekim/opt/anaconda3/lib/python3.7/site-packages/ipykernel_launcher.py:31: SettingWithCopyWarning: \n",
      "A value is trying to be set on a copy of a slice from a DataFrame.\n",
      "Try using .loc[row_indexer,col_indexer] = value instead\n",
      "\n",
      "See the caveats in the documentation: https://pandas.pydata.org/pandas-docs/stable/user_guide/indexing.html#returning-a-view-versus-a-copy\n",
      "/Users/dahyekim/opt/anaconda3/lib/python3.7/site-packages/ipykernel_launcher.py:28: SettingWithCopyWarning: \n",
      "A value is trying to be set on a copy of a slice from a DataFrame.\n",
      "Try using .loc[row_indexer,col_indexer] = value instead\n",
      "\n",
      "See the caveats in the documentation: https://pandas.pydata.org/pandas-docs/stable/user_guide/indexing.html#returning-a-view-versus-a-copy\n",
      "/Users/dahyekim/opt/anaconda3/lib/python3.7/site-packages/ipykernel_launcher.py:31: SettingWithCopyWarning: \n",
      "A value is trying to be set on a copy of a slice from a DataFrame.\n",
      "Try using .loc[row_indexer,col_indexer] = value instead\n",
      "\n",
      "See the caveats in the documentation: https://pandas.pydata.org/pandas-docs/stable/user_guide/indexing.html#returning-a-view-versus-a-copy\n",
      "/Users/dahyekim/opt/anaconda3/lib/python3.7/site-packages/ipykernel_launcher.py:28: SettingWithCopyWarning: \n",
      "A value is trying to be set on a copy of a slice from a DataFrame.\n",
      "Try using .loc[row_indexer,col_indexer] = value instead\n",
      "\n",
      "See the caveats in the documentation: https://pandas.pydata.org/pandas-docs/stable/user_guide/indexing.html#returning-a-view-versus-a-copy\n",
      "/Users/dahyekim/opt/anaconda3/lib/python3.7/site-packages/ipykernel_launcher.py:31: SettingWithCopyWarning: \n",
      "A value is trying to be set on a copy of a slice from a DataFrame.\n",
      "Try using .loc[row_indexer,col_indexer] = value instead\n",
      "\n",
      "See the caveats in the documentation: https://pandas.pydata.org/pandas-docs/stable/user_guide/indexing.html#returning-a-view-versus-a-copy\n"
     ]
    }
   ],
   "source": [
    "df_withResidual =[ResidualCalculator(seasonName, outlier, 'delivery_charges') for seasonName in pd.unique(outlier.season)]\n",
    "# The outlier data frame is seperated into multiple data frames based on the season \n",
    "# ResidualCalculator builds a linear regression model based on the related variables and returns the data frames \n",
    "# after inserting the predicted values and residuals "
   ]
  },
  {
   "cell_type": "code",
   "execution_count": 109,
   "metadata": {},
   "outputs": [
    {
     "data": {
      "image/png": "[encoded data removed]",
      "text/plain": [
       "<Figure size 432x288 with 4 Axes>"
      ]
     },
     "metadata": {
      "needs_background": "light"
     },
     "output_type": "display_data"
    }
   ],
   "source": [
    "f,a = plt.subplots(2,2)\n",
    "# divising plan for the histogram \n",
    "a = a.ravel()\n",
    "n=0\n",
    "# index of df_withResidual\n",
    "\n",
    "for idx,ax in enumerate(a):\n",
    "# for each subsection of the subplots \n",
    "    season = pd.unique(outlier['season'])\n",
    "    # individual season name \n",
    "    ax.hist(df_withResidual[n]['residual'][outlier.season ==season[n]])\n",
    "    # plot the histogram of the residual from each data frame in df_withResidual list \n",
    "    ax.set_xlabel('Residuals')\n",
    "    ax.set_ylabel('Frequency')\n",
    "    # labelling x-axis and y-axis \n",
    "    \n",
    "    ax.set_title(season[n])\n",
    "    # set the main title of the histogram to the season name \n",
    "    \n",
    "    n+=1\n",
    "    \n",
    "plt.tight_layout()"
   ]
  },
  {
   "cell_type": "markdown",
   "metadata": {},
   "source": [
    "The outliers from the ``residual`` values are univariate outliers. As portraited above with the histogram, the distribution of the residuals are not completely normal - especially that of the season Autumn is highly skewed to the right. The skewness of the distribution shifts the centre to the direction of the skewness, and thus we cannot use $3\\sigma$ rules. To detect the outliers in ``residual`` columns, I adopted the **Quartile-based Detection and Boxplots method**. "
   ]
  },
  {
   "cell_type": "code",
   "execution_count": 110,
   "metadata": {},
   "outputs": [
    {
     "name": "stderr",
     "output_type": "stream",
     "text": [
      "/Users/dahyekim/opt/anaconda3/lib/python3.7/site-packages/pandas/core/frame.py:3997: SettingWithCopyWarning: \n",
      "A value is trying to be set on a copy of a slice from a DataFrame\n",
      "\n",
      "See the caveats in the documentation: https://pandas.pydata.org/pandas-docs/stable/user_guide/indexing.html#returning-a-view-versus-a-copy\n",
      "  errors=errors,\n"
     ]
    }
   ],
   "source": [
    "for i in df_withResidual: \n",
    "# loop through each data frame in df_withResidual list \n",
    "\n",
    "    stats = dict(i['residual'].describe())\n",
    "    # convert the statistics summary returned from .describe() function to a dictionary\n",
    "    iqr = stats['75%']-stats['25%']\n",
    "    # IQR is the difference between the 3rd and 1st quartile of the distribution \n",
    "    \n",
    "    upperWhisker = stats['75%']+1.5*iqr\n",
    "    # the data points located above the upper whisker are upper outliers \n",
    "    lowerWhisker = stats['25%']-1.5*iqr\n",
    "    # the data points located below the lower whisker are lower outliers \n",
    "    \n",
    "    i.drop(i.index[(i.residual<lowerWhisker)|(i.residual>upperWhisker)], inplace = True)\n",
    "    # drop all the data points located either under the lower whisker or above the upper whisker"
   ]
  },
  {
   "cell_type": "markdown",
   "metadata": {},
   "source": [
    "To visualise the changes to the distribution after removing the outliers, I plot the distribution of ``residual`` and ``delivery_charges`` from each season."
   ]
  },
  {
   "cell_type": "code",
   "execution_count": 111,
   "metadata": {},
   "outputs": [
    {
     "data": {
      "image/png": "[encoded data removed]",
      "text/plain": [
       "<Figure size 432x288 with 4 Axes>"
      ]
     },
     "metadata": {
      "needs_background": "light"
     },
     "output_type": "display_data"
    }
   ],
   "source": [
    "f,a = plt.subplots(2,2)\n",
    "a = a.ravel()\n",
    "n=0\n",
    "for idx,ax in enumerate(a):\n",
    "    # individual season name \n",
    "    ax.hist(df_withResidual[n]['residual'][outlier.season ==season[n]])\n",
    "    # plot the histogram of the residual from each data frame in df_withResidual list \n",
    "    ax.set_xlabel('Residuals')\n",
    "    ax.set_ylabel('Frequency')\n",
    "    ax.set_title(season[n])\n",
    "    n+=1\n",
    "plt.tight_layout()"
   ]
  },
  {
   "cell_type": "markdown",
   "metadata": {},
   "source": [
    "After removing the outliers of the residuals, the distribution of the residuals look much more centralised and clear in the spread of the distribution. No significant outliers are observed after removing the outliers in the first stage. "
   ]
  },
  {
   "cell_type": "code",
   "execution_count": 112,
   "metadata": {},
   "outputs": [
    {
     "data": {
      "image/png": "[encoded data removed]",
      "text/plain": [
       "<Figure size 432x288 with 1 Axes>"
      ]
     },
     "metadata": {
      "needs_background": "light"
     },
     "output_type": "display_data"
    }
   ],
   "source": [
    "outlier = pd.concat(df_withResidual)\n",
    "# concatenate all the data frames in df_withResidual list \n",
    "deliveryCharges_bp = outlier.boxplot(column = 'delivery_charges', by = 'season')"
   ]
  },
  {
   "cell_type": "markdown",
   "metadata": {},
   "source": [
    "In contrast to the boxplot at the start of Part 3, the outliers of ``delivery_charges`` are now removed in each season. "
   ]
  },
  {
   "cell_type": "code",
   "execution_count": 113,
   "metadata": {},
   "outputs": [],
   "source": [
    "outlier.drop(['residual','predicted_dependentVar'], axis = 1, inplace = True)\n",
    "# drop the columns that are not in the original data frame \n",
    "\n",
    "outlier.is_happy_customer = outlier.is_happy_customer.apply(lambda x: True if x == 1 else False)\n",
    "outlier.is_expedited_delivery = outlier.is_expedited_delivery.apply(lambda x: True if x == 1 else False)\n",
    "# Undo the binary conversion to the original Boolean values \n",
    "\n",
    "outlier.sort_index(inplace = True)\n",
    "outlier.to_csv('outlier_data_solution.csv',index = False)"
   ]
  },
  {
   "cell_type": "markdown",
   "metadata": {},
   "source": [
    "# Conclusion\n",
    "\n",
    "The program cleansed three datasets with three different anomalies - syntatical anomalies, semantic anomalies, and coverage anomalies.  Additionally, it also removed outliers in specific column. The anomalies correction and outlier detection were all based on the business rules of the client. The program majorly utilised ``pandas`` library to manipulate data frames and corrected syntatical anomalies. For semantic anomalies, whose anomalies are dependent to other attributes, the program not only used ``pandas`` and ``numpy`` for calculating correct values, but also used ``sklearn`` to build a linear regression model to predict the correct value in certain columns. The same approach was applied when imputing missing data. Finally, the outlier detection was implemented using the multiple linear regression and the detected outliers were removed based on the Quartile-based Detection and Boxplots method."
   ]
  },
  {
   "cell_type": "markdown",
   "metadata": {},
   "source": [
    "## Bibliography\n",
    "\n",
    "Get minimum values in rows or columns with their index position in Pandas-Dataframe. (2020, July 3). GeeksforGeeks. https://www.geeksforgeeks.org/get-minimum-values-in-rows-or-columns-with-their-index-position-in-pandas-dataframe/\n",
    "\n",
    "Haversine. (2020, September 4). PyPI. https://pypi.org/project/haversine/\n",
    "\n",
    "itertools — Functions creating iterators for efficient looping. (2012). Python v3.1.5 Documentation. https://docs.python.org/3.1/library/itertools.html?highlight=combinations\n",
    "\n",
    "pandas boxplots as subplots with individual y-axis. (2018, April 6). Stack Overflow. https://stackoverflow.com/questions/49690316/pandas-boxplots-as-subplots-with-individual-y-axis\n",
    "\n",
    "Python | List of tuples to dictionary conversion. (2019, May 1). GeeksforGeeks. https://www.geeksforgeeks.org/python-list-of-tuples-to-dictionary-conversion/\n",
    "\n",
    "Swapping 1 with 0 and 0 with 1 in a Pythonic way. (2009, November 22). Stack Overflow. https://stackoverflow.com/questions/1779286/swapping-1-with-0-and-0-with-1-in-a-pythonic-way"
   ]
  }
 ],
 "metadata": {
  "kernelspec": {
   "display_name": "Python 3",
   "language": "python",
   "name": "python3"
  },
  "language_info": {
   "codemirror_mode": {
    "name": "ipython",
    "version": 3
   },
   "file_extension": ".py",
   "mimetype": "text/x-python",
   "name": "python",
   "nbconvert_exporter": "python",
   "pygments_lexer": "ipython3",
   "version": "3.8.2"
  }
 },
 "nbformat": 4,
 "nbformat_minor": 4
}
